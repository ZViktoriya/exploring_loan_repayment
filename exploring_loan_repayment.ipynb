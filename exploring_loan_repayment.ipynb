{
 "cells": [
  {
   "cell_type": "markdown",
   "id": "45417af8",
   "metadata": {
    "deletable": false,
    "editable": false,
    "id": "c81daeeb"
   },
   "source": [
    "# **<p style=\"text-align: center;\">Исследование надежности заемщиков.</p>**"
   ]
  },
  {
   "cell_type": "markdown",
   "id": "518e894c",
   "metadata": {
    "deletable": false,
    "editable": false,
    "id": "744d7639"
   },
   "source": [
    "## Загрузка и подготовка данных"
   ]
  },
  {
   "cell_type": "markdown",
   "id": "f7834c54",
   "metadata": {
    "deletable": false,
    "editable": false,
    "id": "e7a14c31"
   },
   "source": [
    "### Импортируем библиотеку pandas. Считываем данные из csv-файла в датафрейм и сохраняем в переменную `data`. "
   ]
  },
  {
   "cell_type": "code",
   "execution_count": 1,
   "id": "e337a372",
   "metadata": {
    "deletable": false,
    "id": "7bcf75c9"
   },
   "outputs": [],
   "source": [
    "import pandas as pd\n",
    "\n",
    "try:\n",
    "    data = pd.read_csv('/datasets/data.csv')\n",
    "except:\n",
    "    data = pd.read_csv('https://code.s3.yandex.net/datasets/data.csv')"
   ]
  },
  {
   "cell_type": "markdown",
   "id": "bc455fcf",
   "metadata": {
    "deletable": false,
    "editable": false,
    "id": "b8038fe3"
   },
   "source": [
    "### Выводим первые 20 строчек датафрейма `data` на экран."
   ]
  },
  {
   "cell_type": "code",
   "execution_count": 2,
   "id": "5d844c4e",
   "metadata": {
    "deletable": false,
    "id": "2a7cab99",
    "outputId": "1a8f3ef2-d323-4ec2-ddf7-89670b5944c4"
   },
   "outputs": [
    {
     "data": {
      "text/html": [
       "<div>\n",
       "<style scoped>\n",
       "    .dataframe tbody tr th:only-of-type {\n",
       "        vertical-align: middle;\n",
       "    }\n",
       "\n",
       "    .dataframe tbody tr th {\n",
       "        vertical-align: top;\n",
       "    }\n",
       "\n",
       "    .dataframe thead th {\n",
       "        text-align: right;\n",
       "    }\n",
       "</style>\n",
       "<table border=\"1\" class=\"dataframe\">\n",
       "  <thead>\n",
       "    <tr style=\"text-align: right;\">\n",
       "      <th></th>\n",
       "      <th>children</th>\n",
       "      <th>days_employed</th>\n",
       "      <th>dob_years</th>\n",
       "      <th>education</th>\n",
       "      <th>education_id</th>\n",
       "      <th>family_status</th>\n",
       "      <th>family_status_id</th>\n",
       "      <th>gender</th>\n",
       "      <th>income_type</th>\n",
       "      <th>debt</th>\n",
       "      <th>total_income</th>\n",
       "      <th>purpose</th>\n",
       "    </tr>\n",
       "  </thead>\n",
       "  <tbody>\n",
       "    <tr>\n",
       "      <th>0</th>\n",
       "      <td>1</td>\n",
       "      <td>-8437.673028</td>\n",
       "      <td>42</td>\n",
       "      <td>высшее</td>\n",
       "      <td>0</td>\n",
       "      <td>женат / замужем</td>\n",
       "      <td>0</td>\n",
       "      <td>F</td>\n",
       "      <td>сотрудник</td>\n",
       "      <td>0</td>\n",
       "      <td>253875.639453</td>\n",
       "      <td>покупка жилья</td>\n",
       "    </tr>\n",
       "    <tr>\n",
       "      <th>1</th>\n",
       "      <td>1</td>\n",
       "      <td>-4024.803754</td>\n",
       "      <td>36</td>\n",
       "      <td>среднее</td>\n",
       "      <td>1</td>\n",
       "      <td>женат / замужем</td>\n",
       "      <td>0</td>\n",
       "      <td>F</td>\n",
       "      <td>сотрудник</td>\n",
       "      <td>0</td>\n",
       "      <td>112080.014102</td>\n",
       "      <td>приобретение автомобиля</td>\n",
       "    </tr>\n",
       "    <tr>\n",
       "      <th>2</th>\n",
       "      <td>0</td>\n",
       "      <td>-5623.422610</td>\n",
       "      <td>33</td>\n",
       "      <td>Среднее</td>\n",
       "      <td>1</td>\n",
       "      <td>женат / замужем</td>\n",
       "      <td>0</td>\n",
       "      <td>M</td>\n",
       "      <td>сотрудник</td>\n",
       "      <td>0</td>\n",
       "      <td>145885.952297</td>\n",
       "      <td>покупка жилья</td>\n",
       "    </tr>\n",
       "    <tr>\n",
       "      <th>3</th>\n",
       "      <td>3</td>\n",
       "      <td>-4124.747207</td>\n",
       "      <td>32</td>\n",
       "      <td>среднее</td>\n",
       "      <td>1</td>\n",
       "      <td>женат / замужем</td>\n",
       "      <td>0</td>\n",
       "      <td>M</td>\n",
       "      <td>сотрудник</td>\n",
       "      <td>0</td>\n",
       "      <td>267628.550329</td>\n",
       "      <td>дополнительное образование</td>\n",
       "    </tr>\n",
       "    <tr>\n",
       "      <th>4</th>\n",
       "      <td>0</td>\n",
       "      <td>340266.072047</td>\n",
       "      <td>53</td>\n",
       "      <td>среднее</td>\n",
       "      <td>1</td>\n",
       "      <td>гражданский брак</td>\n",
       "      <td>1</td>\n",
       "      <td>F</td>\n",
       "      <td>пенсионер</td>\n",
       "      <td>0</td>\n",
       "      <td>158616.077870</td>\n",
       "      <td>сыграть свадьбу</td>\n",
       "    </tr>\n",
       "    <tr>\n",
       "      <th>5</th>\n",
       "      <td>0</td>\n",
       "      <td>-926.185831</td>\n",
       "      <td>27</td>\n",
       "      <td>высшее</td>\n",
       "      <td>0</td>\n",
       "      <td>гражданский брак</td>\n",
       "      <td>1</td>\n",
       "      <td>M</td>\n",
       "      <td>компаньон</td>\n",
       "      <td>0</td>\n",
       "      <td>255763.565419</td>\n",
       "      <td>покупка жилья</td>\n",
       "    </tr>\n",
       "    <tr>\n",
       "      <th>6</th>\n",
       "      <td>0</td>\n",
       "      <td>-2879.202052</td>\n",
       "      <td>43</td>\n",
       "      <td>высшее</td>\n",
       "      <td>0</td>\n",
       "      <td>женат / замужем</td>\n",
       "      <td>0</td>\n",
       "      <td>F</td>\n",
       "      <td>компаньон</td>\n",
       "      <td>0</td>\n",
       "      <td>240525.971920</td>\n",
       "      <td>операции с жильем</td>\n",
       "    </tr>\n",
       "    <tr>\n",
       "      <th>7</th>\n",
       "      <td>0</td>\n",
       "      <td>-152.779569</td>\n",
       "      <td>50</td>\n",
       "      <td>СРЕДНЕЕ</td>\n",
       "      <td>1</td>\n",
       "      <td>женат / замужем</td>\n",
       "      <td>0</td>\n",
       "      <td>M</td>\n",
       "      <td>сотрудник</td>\n",
       "      <td>0</td>\n",
       "      <td>135823.934197</td>\n",
       "      <td>образование</td>\n",
       "    </tr>\n",
       "    <tr>\n",
       "      <th>8</th>\n",
       "      <td>2</td>\n",
       "      <td>-6929.865299</td>\n",
       "      <td>35</td>\n",
       "      <td>ВЫСШЕЕ</td>\n",
       "      <td>0</td>\n",
       "      <td>гражданский брак</td>\n",
       "      <td>1</td>\n",
       "      <td>F</td>\n",
       "      <td>сотрудник</td>\n",
       "      <td>0</td>\n",
       "      <td>95856.832424</td>\n",
       "      <td>на проведение свадьбы</td>\n",
       "    </tr>\n",
       "    <tr>\n",
       "      <th>9</th>\n",
       "      <td>0</td>\n",
       "      <td>-2188.756445</td>\n",
       "      <td>41</td>\n",
       "      <td>среднее</td>\n",
       "      <td>1</td>\n",
       "      <td>женат / замужем</td>\n",
       "      <td>0</td>\n",
       "      <td>M</td>\n",
       "      <td>сотрудник</td>\n",
       "      <td>0</td>\n",
       "      <td>144425.938277</td>\n",
       "      <td>покупка жилья для семьи</td>\n",
       "    </tr>\n",
       "    <tr>\n",
       "      <th>10</th>\n",
       "      <td>2</td>\n",
       "      <td>-4171.483647</td>\n",
       "      <td>36</td>\n",
       "      <td>высшее</td>\n",
       "      <td>0</td>\n",
       "      <td>женат / замужем</td>\n",
       "      <td>0</td>\n",
       "      <td>M</td>\n",
       "      <td>компаньон</td>\n",
       "      <td>0</td>\n",
       "      <td>113943.491460</td>\n",
       "      <td>покупка недвижимости</td>\n",
       "    </tr>\n",
       "    <tr>\n",
       "      <th>11</th>\n",
       "      <td>0</td>\n",
       "      <td>-792.701887</td>\n",
       "      <td>40</td>\n",
       "      <td>среднее</td>\n",
       "      <td>1</td>\n",
       "      <td>женат / замужем</td>\n",
       "      <td>0</td>\n",
       "      <td>F</td>\n",
       "      <td>сотрудник</td>\n",
       "      <td>0</td>\n",
       "      <td>77069.234271</td>\n",
       "      <td>покупка коммерческой недвижимости</td>\n",
       "    </tr>\n",
       "    <tr>\n",
       "      <th>12</th>\n",
       "      <td>0</td>\n",
       "      <td>NaN</td>\n",
       "      <td>65</td>\n",
       "      <td>среднее</td>\n",
       "      <td>1</td>\n",
       "      <td>гражданский брак</td>\n",
       "      <td>1</td>\n",
       "      <td>M</td>\n",
       "      <td>пенсионер</td>\n",
       "      <td>0</td>\n",
       "      <td>NaN</td>\n",
       "      <td>сыграть свадьбу</td>\n",
       "    </tr>\n",
       "    <tr>\n",
       "      <th>13</th>\n",
       "      <td>0</td>\n",
       "      <td>-1846.641941</td>\n",
       "      <td>54</td>\n",
       "      <td>неоконченное высшее</td>\n",
       "      <td>2</td>\n",
       "      <td>женат / замужем</td>\n",
       "      <td>0</td>\n",
       "      <td>F</td>\n",
       "      <td>сотрудник</td>\n",
       "      <td>0</td>\n",
       "      <td>130458.228857</td>\n",
       "      <td>приобретение автомобиля</td>\n",
       "    </tr>\n",
       "    <tr>\n",
       "      <th>14</th>\n",
       "      <td>0</td>\n",
       "      <td>-1844.956182</td>\n",
       "      <td>56</td>\n",
       "      <td>высшее</td>\n",
       "      <td>0</td>\n",
       "      <td>гражданский брак</td>\n",
       "      <td>1</td>\n",
       "      <td>F</td>\n",
       "      <td>компаньон</td>\n",
       "      <td>1</td>\n",
       "      <td>165127.911772</td>\n",
       "      <td>покупка жилой недвижимости</td>\n",
       "    </tr>\n",
       "    <tr>\n",
       "      <th>15</th>\n",
       "      <td>1</td>\n",
       "      <td>-972.364419</td>\n",
       "      <td>26</td>\n",
       "      <td>среднее</td>\n",
       "      <td>1</td>\n",
       "      <td>женат / замужем</td>\n",
       "      <td>0</td>\n",
       "      <td>F</td>\n",
       "      <td>сотрудник</td>\n",
       "      <td>0</td>\n",
       "      <td>116820.904450</td>\n",
       "      <td>строительство собственной недвижимости</td>\n",
       "    </tr>\n",
       "    <tr>\n",
       "      <th>16</th>\n",
       "      <td>0</td>\n",
       "      <td>-1719.934226</td>\n",
       "      <td>35</td>\n",
       "      <td>среднее</td>\n",
       "      <td>1</td>\n",
       "      <td>женат / замужем</td>\n",
       "      <td>0</td>\n",
       "      <td>F</td>\n",
       "      <td>сотрудник</td>\n",
       "      <td>0</td>\n",
       "      <td>289202.704229</td>\n",
       "      <td>недвижимость</td>\n",
       "    </tr>\n",
       "    <tr>\n",
       "      <th>17</th>\n",
       "      <td>0</td>\n",
       "      <td>-2369.999720</td>\n",
       "      <td>33</td>\n",
       "      <td>высшее</td>\n",
       "      <td>0</td>\n",
       "      <td>гражданский брак</td>\n",
       "      <td>1</td>\n",
       "      <td>M</td>\n",
       "      <td>сотрудник</td>\n",
       "      <td>0</td>\n",
       "      <td>90410.586745</td>\n",
       "      <td>строительство недвижимости</td>\n",
       "    </tr>\n",
       "    <tr>\n",
       "      <th>18</th>\n",
       "      <td>0</td>\n",
       "      <td>400281.136913</td>\n",
       "      <td>53</td>\n",
       "      <td>среднее</td>\n",
       "      <td>1</td>\n",
       "      <td>вдовец / вдова</td>\n",
       "      <td>2</td>\n",
       "      <td>F</td>\n",
       "      <td>пенсионер</td>\n",
       "      <td>0</td>\n",
       "      <td>56823.777243</td>\n",
       "      <td>на покупку подержанного автомобиля</td>\n",
       "    </tr>\n",
       "    <tr>\n",
       "      <th>19</th>\n",
       "      <td>0</td>\n",
       "      <td>-10038.818549</td>\n",
       "      <td>48</td>\n",
       "      <td>СРЕДНЕЕ</td>\n",
       "      <td>1</td>\n",
       "      <td>в разводе</td>\n",
       "      <td>3</td>\n",
       "      <td>F</td>\n",
       "      <td>сотрудник</td>\n",
       "      <td>0</td>\n",
       "      <td>242831.107982</td>\n",
       "      <td>на покупку своего автомобиля</td>\n",
       "    </tr>\n",
       "  </tbody>\n",
       "</table>\n",
       "</div>"
      ],
      "text/plain": [
       "    children  days_employed  dob_years            education  education_id  \\\n",
       "0          1   -8437.673028         42               высшее             0   \n",
       "1          1   -4024.803754         36              среднее             1   \n",
       "2          0   -5623.422610         33              Среднее             1   \n",
       "3          3   -4124.747207         32              среднее             1   \n",
       "4          0  340266.072047         53              среднее             1   \n",
       "5          0    -926.185831         27               высшее             0   \n",
       "6          0   -2879.202052         43               высшее             0   \n",
       "7          0    -152.779569         50              СРЕДНЕЕ             1   \n",
       "8          2   -6929.865299         35               ВЫСШЕЕ             0   \n",
       "9          0   -2188.756445         41              среднее             1   \n",
       "10         2   -4171.483647         36               высшее             0   \n",
       "11         0    -792.701887         40              среднее             1   \n",
       "12         0            NaN         65              среднее             1   \n",
       "13         0   -1846.641941         54  неоконченное высшее             2   \n",
       "14         0   -1844.956182         56               высшее             0   \n",
       "15         1    -972.364419         26              среднее             1   \n",
       "16         0   -1719.934226         35              среднее             1   \n",
       "17         0   -2369.999720         33               высшее             0   \n",
       "18         0  400281.136913         53              среднее             1   \n",
       "19         0  -10038.818549         48              СРЕДНЕЕ             1   \n",
       "\n",
       "       family_status  family_status_id gender income_type  debt  \\\n",
       "0    женат / замужем                 0      F   сотрудник     0   \n",
       "1    женат / замужем                 0      F   сотрудник     0   \n",
       "2    женат / замужем                 0      M   сотрудник     0   \n",
       "3    женат / замужем                 0      M   сотрудник     0   \n",
       "4   гражданский брак                 1      F   пенсионер     0   \n",
       "5   гражданский брак                 1      M   компаньон     0   \n",
       "6    женат / замужем                 0      F   компаньон     0   \n",
       "7    женат / замужем                 0      M   сотрудник     0   \n",
       "8   гражданский брак                 1      F   сотрудник     0   \n",
       "9    женат / замужем                 0      M   сотрудник     0   \n",
       "10   женат / замужем                 0      M   компаньон     0   \n",
       "11   женат / замужем                 0      F   сотрудник     0   \n",
       "12  гражданский брак                 1      M   пенсионер     0   \n",
       "13   женат / замужем                 0      F   сотрудник     0   \n",
       "14  гражданский брак                 1      F   компаньон     1   \n",
       "15   женат / замужем                 0      F   сотрудник     0   \n",
       "16   женат / замужем                 0      F   сотрудник     0   \n",
       "17  гражданский брак                 1      M   сотрудник     0   \n",
       "18    вдовец / вдова                 2      F   пенсионер     0   \n",
       "19         в разводе                 3      F   сотрудник     0   \n",
       "\n",
       "     total_income                                 purpose  \n",
       "0   253875.639453                           покупка жилья  \n",
       "1   112080.014102                 приобретение автомобиля  \n",
       "2   145885.952297                           покупка жилья  \n",
       "3   267628.550329              дополнительное образование  \n",
       "4   158616.077870                         сыграть свадьбу  \n",
       "5   255763.565419                           покупка жилья  \n",
       "6   240525.971920                       операции с жильем  \n",
       "7   135823.934197                             образование  \n",
       "8    95856.832424                   на проведение свадьбы  \n",
       "9   144425.938277                 покупка жилья для семьи  \n",
       "10  113943.491460                    покупка недвижимости  \n",
       "11   77069.234271       покупка коммерческой недвижимости  \n",
       "12            NaN                         сыграть свадьбу  \n",
       "13  130458.228857                 приобретение автомобиля  \n",
       "14  165127.911772              покупка жилой недвижимости  \n",
       "15  116820.904450  строительство собственной недвижимости  \n",
       "16  289202.704229                            недвижимость  \n",
       "17   90410.586745              строительство недвижимости  \n",
       "18   56823.777243      на покупку подержанного автомобиля  \n",
       "19  242831.107982            на покупку своего автомобиля  "
      ]
     },
     "execution_count": 2,
     "metadata": {},
     "output_type": "execute_result"
    }
   ],
   "source": [
    "data.head(20)"
   ]
  },
  {
   "cell_type": "markdown",
   "id": "732116ed",
   "metadata": {
    "deletable": false,
    "editable": false,
    "id": "1c12e233"
   },
   "source": [
    "### Выводим основную информацию о датафрейме с помощью метода `info()`."
   ]
  },
  {
   "cell_type": "code",
   "execution_count": 3,
   "id": "2418b355",
   "metadata": {
    "deletable": false,
    "id": "2b757bca",
    "outputId": "15376089-8dad-46c9-b520-c05248d43158"
   },
   "outputs": [
    {
     "name": "stdout",
     "output_type": "stream",
     "text": [
      "<class 'pandas.core.frame.DataFrame'>\n",
      "RangeIndex: 21525 entries, 0 to 21524\n",
      "Data columns (total 12 columns):\n",
      " #   Column            Non-Null Count  Dtype  \n",
      "---  ------            --------------  -----  \n",
      " 0   children          21525 non-null  int64  \n",
      " 1   days_employed     19351 non-null  float64\n",
      " 2   dob_years         21525 non-null  int64  \n",
      " 3   education         21525 non-null  object \n",
      " 4   education_id      21525 non-null  int64  \n",
      " 5   family_status     21525 non-null  object \n",
      " 6   family_status_id  21525 non-null  int64  \n",
      " 7   gender            21525 non-null  object \n",
      " 8   income_type       21525 non-null  object \n",
      " 9   debt              21525 non-null  int64  \n",
      " 10  total_income      19351 non-null  float64\n",
      " 11  purpose           21525 non-null  object \n",
      "dtypes: float64(2), int64(5), object(5)\n",
      "memory usage: 2.0+ MB\n"
     ]
    }
   ],
   "source": [
    "data.info()"
   ]
  },
  {
   "cell_type": "markdown",
   "id": "d569ae6b",
   "metadata": {
    "deletable": false,
    "editable": false,
    "id": "333ec665"
   },
   "source": [
    "## Предобработка данных"
   ]
  },
  {
   "cell_type": "markdown",
   "id": "397caf7f",
   "metadata": {
    "deletable": false,
    "editable": false,
    "id": "cd84967c"
   },
   "source": [
    "### Выведим количество пропущенных значений для каждого столбца. "
   ]
  },
  {
   "cell_type": "code",
   "execution_count": 4,
   "id": "2187c256",
   "metadata": {
    "deletable": false,
    "id": "7f9b2309",
    "outputId": "81f4d817-781c-465c-ed15-91ce4446810d"
   },
   "outputs": [
    {
     "data": {
      "text/plain": [
       "children               0\n",
       "days_employed       2174\n",
       "dob_years              0\n",
       "education              0\n",
       "education_id           0\n",
       "family_status          0\n",
       "family_status_id       0\n",
       "gender                 0\n",
       "income_type            0\n",
       "debt                   0\n",
       "total_income        2174\n",
       "purpose                0\n",
       "dtype: int64"
      ]
     },
     "execution_count": 4,
     "metadata": {},
     "output_type": "execute_result"
    }
   ],
   "source": [
    "data.isna().sum()"
   ]
  },
  {
   "cell_type": "markdown",
   "id": "41b98d49",
   "metadata": {
    "deletable": false,
    "editable": false,
    "id": "db86e27b"
   },
   "source": [
    "В двух столбцах есть пропущенные значения. Один из них  `days_employed`. Пропуски в этом столбце обработаем на следующем этапе. Другой столбец с пропущенными значениями  `total_income` — хранит данные о доходах. На сумму дохода сильнее всего влияет тип занятости, поэтому заполним пропуски в этом столбце медианным значением по каждому типу из столбца `income_type`. Например, у человека с типом занятости `сотрудник` пропуск в столбце `total_income` будет заполнен медианным доходом среди всех записей с тем же типом."
   ]
  },
  {
   "cell_type": "code",
   "execution_count": 5,
   "id": "23ffc722",
   "metadata": {
    "deletable": false,
    "id": "42006a93"
   },
   "outputs": [],
   "source": [
    "for t in data['income_type'].unique():\n",
    "    data.loc[(data['income_type'] == t) & (data['total_income'].isna()), 'total_income'] = \\\n",
    "    data.loc[(data['income_type'] == t), 'total_income'].median()"
   ]
  },
  {
   "cell_type": "markdown",
   "id": "4d321978",
   "metadata": {
    "deletable": false,
    "editable": false,
    "id": "89da5ece"
   },
   "source": [
    "### Обработка аномальных значений"
   ]
  },
  {
   "cell_type": "markdown",
   "id": "dba576de",
   "metadata": {
    "deletable": false,
    "editable": false,
    "id": "57964554"
   },
   "source": [
    "В данных могут встречаться артефакты (аномалии) — значения, которые не отражают действительность и появились по какой-то ошибке. Таким артефактом будет отрицательное количество дней трудового стажа в столбце `days_employed`. Для реальных данных это нормально. Обработаем значения в этом столбце: заменим все отрицательные значения положительными с помощью метода `abs()`."
   ]
  },
  {
   "cell_type": "code",
   "execution_count": 6,
   "id": "f686119e",
   "metadata": {
    "deletable": false,
    "id": "f6f055bf"
   },
   "outputs": [],
   "source": [
    "data['days_employed'] = data['days_employed'].abs()"
   ]
  },
  {
   "cell_type": "markdown",
   "id": "119a8435",
   "metadata": {
    "deletable": false,
    "editable": false,
    "id": "6107dd2f"
   },
   "source": [
    "Для каждого типа занятости выведим медианное значение трудового стажа `days_employed` в днях."
   ]
  },
  {
   "cell_type": "code",
   "execution_count": 7,
   "id": "4810ca42",
   "metadata": {
    "deletable": false,
    "id": "85a5faf6",
    "outputId": "801ef80e-522b-4668-f34e-565af7432bcf"
   },
   "outputs": [
    {
     "data": {
      "text/plain": [
       "income_type\n",
       "безработный        366413.652744\n",
       "в декрете            3296.759962\n",
       "госслужащий          2689.368353\n",
       "компаньон            1547.382223\n",
       "пенсионер          365213.306266\n",
       "предприниматель       520.848083\n",
       "сотрудник            1574.202821\n",
       "студент               578.751554\n",
       "Name: days_employed, dtype: float64"
      ]
     },
     "execution_count": 7,
     "metadata": {},
     "output_type": "execute_result"
    }
   ],
   "source": [
    "data.groupby('income_type')['days_employed'].agg('median')"
   ]
  },
  {
   "cell_type": "markdown",
   "id": "73000035",
   "metadata": {
    "deletable": false,
    "editable": false,
    "id": "38d1a030"
   },
   "source": [
    "У двух типов (безработные и пенсионеры) получаются аномально большие значения. Исправить такие значения сложно, поэтому оставим их как есть. Тем более этот столбец не понадобится для исследования."
   ]
  },
  {
   "cell_type": "markdown",
   "id": "2a8b14e3",
   "metadata": {
    "deletable": false,
    "editable": false,
    "id": "d8a9f147"
   },
   "source": [
    "Выведим перечень уникальных значений столбца `children`."
   ]
  },
  {
   "cell_type": "code",
   "execution_count": 8,
   "id": "ecdcfb13",
   "metadata": {
    "deletable": false,
    "id": "ef5056eb",
    "outputId": "6975b15c-7f95-4697-d16d-a0c79b657b03"
   },
   "outputs": [
    {
     "data": {
      "text/plain": [
       "array([ 1,  0,  3,  2, -1,  4, 20,  5])"
      ]
     },
     "execution_count": 8,
     "metadata": {},
     "output_type": "execute_result"
    }
   ],
   "source": [
    "data['children'].unique()"
   ]
  },
  {
   "cell_type": "markdown",
   "id": "d4379637",
   "metadata": {
    "deletable": false,
    "editable": false,
    "id": "40b9ebf2"
   },
   "source": [
    "В столбце `children` есть два аномальных значения. Удалим строки, в которых встречаются такие аномальные значения из датафрейма `data`."
   ]
  },
  {
   "cell_type": "code",
   "execution_count": 9,
   "id": "b0233091",
   "metadata": {
    "deletable": false,
    "id": "3ff9801d"
   },
   "outputs": [],
   "source": [
    "data = data[(data['children'] != -1) & (data['children'] != 20)]"
   ]
  },
  {
   "cell_type": "markdown",
   "id": "4a2dfe14",
   "metadata": {
    "deletable": false,
    "editable": false,
    "id": "bbc4d0ce"
   },
   "source": [
    "Ещё раз выведим перечень уникальных значений столбца `children`, чтобы убедиться, что артефакты удалены."
   ]
  },
  {
   "cell_type": "code",
   "execution_count": 10,
   "id": "58a19764",
   "metadata": {
    "deletable": false,
    "id": "ad4fa8b7",
    "outputId": "b2097101-d49d-44d9-901b-32a65c9463d1"
   },
   "outputs": [
    {
     "data": {
      "text/plain": [
       "array([1, 0, 3, 2, 4, 5])"
      ]
     },
     "execution_count": 10,
     "metadata": {},
     "output_type": "execute_result"
    }
   ],
   "source": [
    "data['children'].unique()"
   ]
  },
  {
   "cell_type": "markdown",
   "id": "7931f9c2",
   "metadata": {
    "deletable": false,
    "editable": false,
    "id": "f4ea573f"
   },
   "source": [
    "Заполним пропуски в столбце `days_employed` медианными значениями для каждого типа занятости `income_type`."
   ]
  },
  {
   "cell_type": "code",
   "execution_count": 11,
   "id": "1bde56c3",
   "metadata": {
    "deletable": false,
    "id": "af6b1a7e"
   },
   "outputs": [],
   "source": [
    "for t in data['income_type'].unique():\n",
    "    data.loc[(data['income_type'] == t) & (data['days_employed'].isna()), 'days_employed'] = \\\n",
    "    data.loc[(data['income_type'] == t), 'days_employed'].median()"
   ]
  },
  {
   "cell_type": "markdown",
   "id": "42305644",
   "metadata": {
    "deletable": false,
    "editable": false,
    "id": "2753f40d"
   },
   "source": [
    "Убедимся что все пропуски заполнены. Выведим количество пропущенных значений для каждого столбца."
   ]
  },
  {
   "cell_type": "code",
   "execution_count": 12,
   "id": "3f8c4e6f",
   "metadata": {
    "deletable": false,
    "id": "55f78bc2",
    "outputId": "8da1e4e1-358e-4e87-98c9-f261bce0a7b2"
   },
   "outputs": [
    {
     "data": {
      "text/plain": [
       "children            0\n",
       "days_employed       0\n",
       "dob_years           0\n",
       "education           0\n",
       "education_id        0\n",
       "family_status       0\n",
       "family_status_id    0\n",
       "gender              0\n",
       "income_type         0\n",
       "debt                0\n",
       "total_income        0\n",
       "purpose             0\n",
       "dtype: int64"
      ]
     },
     "execution_count": 12,
     "metadata": {},
     "output_type": "execute_result"
    }
   ],
   "source": [
    "data.isna().sum()"
   ]
  },
  {
   "cell_type": "markdown",
   "id": "2a481568",
   "metadata": {
    "deletable": false,
    "editable": false,
    "id": "ddc81e43"
   },
   "source": [
    "### Изменение типов данных"
   ]
  },
  {
   "cell_type": "markdown",
   "id": "fcae8a90",
   "metadata": {
    "deletable": false,
    "editable": false,
    "id": "42d19d24"
   },
   "source": [
    "### Заменим вещественный тип данных в столбце `total_income` на целочисленный ."
   ]
  },
  {
   "cell_type": "code",
   "execution_count": 13,
   "id": "cfb70cae",
   "metadata": {
    "deletable": false,
    "id": "920b65ad"
   },
   "outputs": [],
   "source": [
    "data['total_income'] = data['total_income'].astype(int)"
   ]
  },
  {
   "cell_type": "markdown",
   "id": "9282e6d2",
   "metadata": {
    "deletable": false,
    "editable": false,
    "id": "80c420ba"
   },
   "source": [
    "### Обработка дубликатов"
   ]
  },
  {
   "cell_type": "markdown",
   "id": "b19f0b1d",
   "metadata": {
    "deletable": false,
    "editable": false
   },
   "source": [
    "Обработаем неявные дубликаты в столбце `education`. В этом столбце есть одни и те же значения, но записанные по-разному: с использованием заглавных и строчных букв. Приведем их к нижнему регистру. "
   ]
  },
  {
   "cell_type": "code",
   "execution_count": 14,
   "id": "be104cfc",
   "metadata": {
    "deletable": false
   },
   "outputs": [],
   "source": [
    "data['education'] = data['education'].str.lower()"
   ]
  },
  {
   "cell_type": "markdown",
   "id": "65fcc103",
   "metadata": {
    "deletable": false,
    "editable": false,
    "id": "dc587695"
   },
   "source": [
    "Выведим на экран количество строк-дубликатов в данных. Если такие строки присутствуют, удалим их."
   ]
  },
  {
   "cell_type": "code",
   "execution_count": 15,
   "id": "ec396918",
   "metadata": {
    "deletable": false,
    "id": "3ee445e4",
    "outputId": "9684deba-1934-42d1-99e1-cda61740f822"
   },
   "outputs": [
    {
     "data": {
      "text/plain": [
       "71"
      ]
     },
     "execution_count": 15,
     "metadata": {},
     "output_type": "execute_result"
    }
   ],
   "source": [
    "data.duplicated().sum()"
   ]
  },
  {
   "cell_type": "code",
   "execution_count": 16,
   "id": "96d63980",
   "metadata": {
    "deletable": false,
    "id": "8575fe05"
   },
   "outputs": [],
   "source": [
    "data = data.drop_duplicates()"
   ]
  },
  {
   "cell_type": "markdown",
   "id": "d303e01e",
   "metadata": {
    "deletable": false,
    "editable": false,
    "id": "9904cf55"
   },
   "source": [
    "### Категоризация данных"
   ]
  },
  {
   "cell_type": "markdown",
   "id": "5aca4cd7",
   "metadata": {
    "deletable": false,
    "editable": false,
    "id": "72fcc8a2"
   },
   "source": [
    "На основании диапазонов, указанных ниже, создадим в датафрейме `data` столбец `total_income_category` с категориями:\n",
    "\n",
    "- 0–30000 — `'E'`;\n",
    "- 30001–50000 — `'D'`;\n",
    "- 50001–200000 — `'C'`;\n",
    "- 200001–1000000 — `'B'`;\n",
    "- 1000001 и выше — `'A'`.\n",
    "\n",
    "\n",
    "**Например, кредитополучателю с доходом 25000 нужно назначить категорию `'E'`, а клиенту, получающему 235000, — `'B'`.**"
   ]
  },
  {
   "cell_type": "code",
   "execution_count": 17,
   "id": "3e6e7d76",
   "metadata": {
    "deletable": false,
    "id": "e1771346"
   },
   "outputs": [],
   "source": [
    "def categorize_income(income):\n",
    "    try:\n",
    "        if 0 <= income <= 30000:\n",
    "            return 'E'\n",
    "        elif 30001 <= income <= 50000:\n",
    "            return 'D'\n",
    "        elif 50001 <= income <= 200000:\n",
    "            return 'C'\n",
    "        elif 200001 <= income <= 1000000:\n",
    "            return 'B'\n",
    "        elif income >= 1000001:\n",
    "            return 'A'\n",
    "    except:\n",
    "        pass"
   ]
  },
  {
   "cell_type": "code",
   "execution_count": 18,
   "id": "ccbfcc38",
   "metadata": {
    "deletable": false,
    "id": "d5f3586d"
   },
   "outputs": [],
   "source": [
    "data['total_income_category'] = data['total_income'].apply(categorize_income)"
   ]
  },
  {
   "cell_type": "markdown",
   "id": "d2f5b86c",
   "metadata": {
    "deletable": false,
    "editable": false,
    "id": "dde49b5c"
   },
   "source": [
    "Выведим на экран перечень уникальных целей взятия кредита из столбца `purpose`."
   ]
  },
  {
   "cell_type": "code",
   "execution_count": 19,
   "id": "68c17c38",
   "metadata": {
    "deletable": false,
    "id": "f67ce9b3",
    "outputId": "673c12d9-7d7e-4ae0-9812-c622c89dd244"
   },
   "outputs": [
    {
     "data": {
      "text/plain": [
       "array(['покупка жилья', 'приобретение автомобиля',\n",
       "       'дополнительное образование', 'сыграть свадьбу',\n",
       "       'операции с жильем', 'образование', 'на проведение свадьбы',\n",
       "       'покупка жилья для семьи', 'покупка недвижимости',\n",
       "       'покупка коммерческой недвижимости', 'покупка жилой недвижимости',\n",
       "       'строительство собственной недвижимости', 'недвижимость',\n",
       "       'строительство недвижимости', 'на покупку подержанного автомобиля',\n",
       "       'на покупку своего автомобиля',\n",
       "       'операции с коммерческой недвижимостью',\n",
       "       'строительство жилой недвижимости', 'жилье',\n",
       "       'операции со своей недвижимостью', 'автомобили',\n",
       "       'заняться образованием', 'сделка с подержанным автомобилем',\n",
       "       'получение образования', 'автомобиль', 'свадьба',\n",
       "       'получение дополнительного образования', 'покупка своего жилья',\n",
       "       'операции с недвижимостью', 'получение высшего образования',\n",
       "       'свой автомобиль', 'сделка с автомобилем',\n",
       "       'профильное образование', 'высшее образование',\n",
       "       'покупка жилья для сдачи', 'на покупку автомобиля', 'ремонт жилью',\n",
       "       'заняться высшим образованием'], dtype=object)"
      ]
     },
     "execution_count": 19,
     "metadata": {},
     "output_type": "execute_result"
    }
   ],
   "source": [
    "data['purpose'].unique()"
   ]
  },
  {
   "cell_type": "markdown",
   "id": "14e02d13",
   "metadata": {
    "deletable": false,
    "editable": false,
    "id": "85d0aef0"
   },
   "source": [
    "Создадим функцию, которая на основании данных из столбца `purpose` сформирует новый столбец `purpose_category`, в который войдут следующие категории:\n",
    "\n",
    "- `'операции с автомобилем'`,\n",
    "- `'операции с недвижимостью'`,\n",
    "- `'проведение свадьбы'`,\n",
    "- `'получение образования'`.\n",
    "\n",
    "**Например, если в столбце `purpose` находится подстрока `'на покупку автомобиля'`, то в столбце `purpose_category` должна появиться строка `'операции с автомобилем'`.**"
   ]
  },
  {
   "cell_type": "code",
   "execution_count": 20,
   "id": "f57dddf6",
   "metadata": {
    "deletable": false,
    "id": "e149fab4"
   },
   "outputs": [],
   "source": [
    "def categorize_purpose(row):\n",
    "    try:\n",
    "        if 'автом' in row:\n",
    "            return 'операции с автомобилем'\n",
    "        elif 'жил' in row or 'недвиж' in row:\n",
    "            return 'операции с недвижимостью'\n",
    "        elif 'свад' in row:\n",
    "            return 'проведение свадьбы'\n",
    "        elif 'образов' in row:\n",
    "            return 'получение образования'\n",
    "    except:\n",
    "        return 'нет категории'"
   ]
  },
  {
   "cell_type": "code",
   "execution_count": 21,
   "id": "7e451da6",
   "metadata": {
    "deletable": false,
    "id": "bf36e69b"
   },
   "outputs": [],
   "source": [
    "data['purpose_category'] = data['purpose'].apply(categorize_purpose)"
   ]
  },
  {
   "cell_type": "markdown",
   "id": "39c158ae",
   "metadata": {
    "deletable": false,
    "editable": false,
    "id": "09b242bf"
   },
   "source": [
    "### Исследуем данные и ответим на вопросы."
   ]
  },
  {
   "cell_type": "markdown",
   "id": "00d4a4b2",
   "metadata": {
    "deletable": false,
    "editable": false,
    "id": "c5d66278"
   },
   "source": [
    "#### Есть ли зависимость между количеством детей и возвратом кредита в срок?"
   ]
  },
  {
   "cell_type": "code",
   "execution_count": 22,
   "id": "65eba40d",
   "metadata": {
    "deletable": false,
    "id": "2cacfc4a",
    "scrolled": true
   },
   "outputs": [
    {
     "data": {
      "text/plain": [
       "children\n",
       "0    1063\n",
       "1     444\n",
       "2     194\n",
       "3      27\n",
       "4       4\n",
       "5       0\n",
       "Name: debt, dtype: int64"
      ]
     },
     "execution_count": 22,
     "metadata": {},
     "output_type": "execute_result"
    }
   ],
   "source": [
    "data.groupby('children')['debt'].agg('sum')"
   ]
  },
  {
   "cell_type": "code",
   "execution_count": 23,
   "id": "490f2a5d",
   "metadata": {},
   "outputs": [],
   "source": [
    "relationship_children = data.pivot_table(index=['children'], values='debt', aggfunc= {'sum', 'count'})\n",
    "relationship_children = relationship_children.rename(columns={\"sum\": \"debtors\",'count': 'all_customers'})"
   ]
  },
  {
   "cell_type": "code",
   "execution_count": 24,
   "id": "cd37375b",
   "metadata": {},
   "outputs": [
    {
     "data": {
      "text/html": [
       "<div>\n",
       "<style scoped>\n",
       "    .dataframe tbody tr th:only-of-type {\n",
       "        vertical-align: middle;\n",
       "    }\n",
       "\n",
       "    .dataframe tbody tr th {\n",
       "        vertical-align: top;\n",
       "    }\n",
       "\n",
       "    .dataframe thead th {\n",
       "        text-align: right;\n",
       "    }\n",
       "</style>\n",
       "<table border=\"1\" class=\"dataframe\">\n",
       "  <thead>\n",
       "    <tr style=\"text-align: right;\">\n",
       "      <th></th>\n",
       "      <th>all_customers</th>\n",
       "      <th>debtors</th>\n",
       "    </tr>\n",
       "    <tr>\n",
       "      <th>children</th>\n",
       "      <th></th>\n",
       "      <th></th>\n",
       "    </tr>\n",
       "  </thead>\n",
       "  <tbody>\n",
       "    <tr>\n",
       "      <th>0</th>\n",
       "      <td>14091</td>\n",
       "      <td>1063</td>\n",
       "    </tr>\n",
       "    <tr>\n",
       "      <th>1</th>\n",
       "      <td>4808</td>\n",
       "      <td>444</td>\n",
       "    </tr>\n",
       "    <tr>\n",
       "      <th>2</th>\n",
       "      <td>2052</td>\n",
       "      <td>194</td>\n",
       "    </tr>\n",
       "    <tr>\n",
       "      <th>3</th>\n",
       "      <td>330</td>\n",
       "      <td>27</td>\n",
       "    </tr>\n",
       "    <tr>\n",
       "      <th>4</th>\n",
       "      <td>41</td>\n",
       "      <td>4</td>\n",
       "    </tr>\n",
       "    <tr>\n",
       "      <th>5</th>\n",
       "      <td>9</td>\n",
       "      <td>0</td>\n",
       "    </tr>\n",
       "  </tbody>\n",
       "</table>\n",
       "</div>"
      ],
      "text/plain": [
       "          all_customers  debtors\n",
       "children                        \n",
       "0                 14091     1063\n",
       "1                  4808      444\n",
       "2                  2052      194\n",
       "3                   330       27\n",
       "4                    41        4\n",
       "5                     9        0"
      ]
     },
     "execution_count": 24,
     "metadata": {},
     "output_type": "execute_result"
    }
   ],
   "source": [
    "relationship_children"
   ]
  },
  {
   "cell_type": "code",
   "execution_count": 25,
   "id": "e7773dcb",
   "metadata": {},
   "outputs": [
    {
     "data": {
      "text/html": [
       "<div>\n",
       "<style scoped>\n",
       "    .dataframe tbody tr th:only-of-type {\n",
       "        vertical-align: middle;\n",
       "    }\n",
       "\n",
       "    .dataframe tbody tr th {\n",
       "        vertical-align: top;\n",
       "    }\n",
       "\n",
       "    .dataframe thead th {\n",
       "        text-align: right;\n",
       "    }\n",
       "</style>\n",
       "<table border=\"1\" class=\"dataframe\">\n",
       "  <thead>\n",
       "    <tr style=\"text-align: right;\">\n",
       "      <th></th>\n",
       "      <th>all_customers</th>\n",
       "      <th>debtors</th>\n",
       "      <th>no_debtors</th>\n",
       "      <th>all_debtors</th>\n",
       "      <th>all_no_debtors</th>\n",
       "    </tr>\n",
       "    <tr>\n",
       "      <th>children</th>\n",
       "      <th></th>\n",
       "      <th></th>\n",
       "      <th></th>\n",
       "      <th></th>\n",
       "      <th></th>\n",
       "    </tr>\n",
       "  </thead>\n",
       "  <tbody>\n",
       "    <tr>\n",
       "      <th>0</th>\n",
       "      <td>14091</td>\n",
       "      <td>1063</td>\n",
       "      <td>13028</td>\n",
       "      <td>0.075</td>\n",
       "      <td>0.925</td>\n",
       "    </tr>\n",
       "    <tr>\n",
       "      <th>1</th>\n",
       "      <td>4808</td>\n",
       "      <td>444</td>\n",
       "      <td>4364</td>\n",
       "      <td>0.092</td>\n",
       "      <td>0.908</td>\n",
       "    </tr>\n",
       "    <tr>\n",
       "      <th>2</th>\n",
       "      <td>2052</td>\n",
       "      <td>194</td>\n",
       "      <td>1858</td>\n",
       "      <td>0.095</td>\n",
       "      <td>0.905</td>\n",
       "    </tr>\n",
       "    <tr>\n",
       "      <th>3</th>\n",
       "      <td>330</td>\n",
       "      <td>27</td>\n",
       "      <td>303</td>\n",
       "      <td>0.082</td>\n",
       "      <td>0.918</td>\n",
       "    </tr>\n",
       "    <tr>\n",
       "      <th>4</th>\n",
       "      <td>41</td>\n",
       "      <td>4</td>\n",
       "      <td>37</td>\n",
       "      <td>0.098</td>\n",
       "      <td>0.902</td>\n",
       "    </tr>\n",
       "    <tr>\n",
       "      <th>5</th>\n",
       "      <td>9</td>\n",
       "      <td>0</td>\n",
       "      <td>9</td>\n",
       "      <td>0.000</td>\n",
       "      <td>1.000</td>\n",
       "    </tr>\n",
       "  </tbody>\n",
       "</table>\n",
       "</div>"
      ],
      "text/plain": [
       "          all_customers  debtors  no_debtors  all_debtors  all_no_debtors\n",
       "children                                                                 \n",
       "0                 14091     1063       13028        0.075           0.925\n",
       "1                  4808      444        4364        0.092           0.908\n",
       "2                  2052      194        1858        0.095           0.905\n",
       "3                   330       27         303        0.082           0.918\n",
       "4                    41        4          37        0.098           0.902\n",
       "5                     9        0           9        0.000           1.000"
      ]
     },
     "execution_count": 25,
     "metadata": {},
     "output_type": "execute_result"
    }
   ],
   "source": [
    "relationship_children['no_debtors'] = relationship_children['all_customers'] - relationship_children['debtors']\n",
    "relationship_children['all_debtors'] = round(relationship_children['debtors']/ relationship_children['all_customers'],3)\n",
    "relationship_children['all_no_debtors'] = round(relationship_children['no_debtors']/ relationship_children['all_customers'],3)\n",
    "relationship_children"
   ]
  },
  {
   "cell_type": "markdown",
   "id": "bce438e1",
   "metadata": {},
   "source": [
    "Для каждой категории посчитано количество должников, количество людей, которые вернули кредит в срок, и их долю от всех клиентов банка. \n",
    "    \n",
    "Стоит учитывать, что данных по семьям с 3, 4, 5 детьми очень мало, и их не стоит брать в расчет. \n",
    "    \n",
    "**Вывод:** клиенты,у которых есть дети имеют большую долю невозврата кредита в срок,в свою очередь, клиенты, у которых нет детей имеют меньшую долю быть должником перед банком.\n"
   ]
  },
  {
   "cell_type": "markdown",
   "id": "12720ef9",
   "metadata": {
    "deletable": false,
    "editable": false,
    "id": "97be82ca"
   },
   "source": [
    "#### Есть ли зависимость между семейным положением и возвратом кредита в срок?"
   ]
  },
  {
   "cell_type": "code",
   "execution_count": 26,
   "id": "f6b2e95d",
   "metadata": {
    "deletable": false,
    "id": "dc3f7ee8"
   },
   "outputs": [
    {
     "data": {
      "text/html": [
       "<div>\n",
       "<style scoped>\n",
       "    .dataframe tbody tr th:only-of-type {\n",
       "        vertical-align: middle;\n",
       "    }\n",
       "\n",
       "    .dataframe tbody tr th {\n",
       "        vertical-align: top;\n",
       "    }\n",
       "\n",
       "    .dataframe thead th {\n",
       "        text-align: right;\n",
       "    }\n",
       "</style>\n",
       "<table border=\"1\" class=\"dataframe\">\n",
       "  <thead>\n",
       "    <tr style=\"text-align: right;\">\n",
       "      <th></th>\n",
       "      <th>all_customers</th>\n",
       "      <th>share_of_debtors</th>\n",
       "      <th>debtors</th>\n",
       "    </tr>\n",
       "    <tr>\n",
       "      <th>family_status</th>\n",
       "      <th></th>\n",
       "      <th></th>\n",
       "      <th></th>\n",
       "    </tr>\n",
       "  </thead>\n",
       "  <tbody>\n",
       "    <tr>\n",
       "      <th>Не женат / не замужем</th>\n",
       "      <td>2796</td>\n",
       "      <td>0.098</td>\n",
       "      <td>273</td>\n",
       "    </tr>\n",
       "    <tr>\n",
       "      <th>в разводе</th>\n",
       "      <td>1189</td>\n",
       "      <td>0.071</td>\n",
       "      <td>84</td>\n",
       "    </tr>\n",
       "    <tr>\n",
       "      <th>вдовец / вдова</th>\n",
       "      <td>951</td>\n",
       "      <td>0.066</td>\n",
       "      <td>63</td>\n",
       "    </tr>\n",
       "    <tr>\n",
       "      <th>гражданский брак</th>\n",
       "      <td>4134</td>\n",
       "      <td>0.093</td>\n",
       "      <td>385</td>\n",
       "    </tr>\n",
       "    <tr>\n",
       "      <th>женат / замужем</th>\n",
       "      <td>12261</td>\n",
       "      <td>0.076</td>\n",
       "      <td>927</td>\n",
       "    </tr>\n",
       "  </tbody>\n",
       "</table>\n",
       "</div>"
      ],
      "text/plain": [
       "                       all_customers  share_of_debtors  debtors\n",
       "family_status                                                  \n",
       "Не женат / не замужем           2796             0.098      273\n",
       "в разводе                       1189             0.071       84\n",
       "вдовец / вдова                   951             0.066       63\n",
       "гражданский брак                4134             0.093      385\n",
       "женат / замужем                12261             0.076      927"
      ]
     },
     "execution_count": 26,
     "metadata": {},
     "output_type": "execute_result"
    }
   ],
   "source": [
    "relationship_family_status= data.pivot_table(index=['family_status'], values='debt', aggfunc= {'sum', 'count', 'mean'})\n",
    "pd.set_option('display.float_format', '{:.3f}'.format)\n",
    "relationship_family_status['count'] = relationship_family_status['count'].astype (int)\n",
    "relationship_family_status['sum'] = relationship_family_status['sum'].astype (int)\n",
    "relationship_family_status = relationship_family_status.rename(columns={\"sum\": \"debtors\",'count': 'all_customers','mean': 'share_of_debtors' })\n",
    "relationship_family_status"
   ]
  },
  {
   "cell_type": "markdown",
   "id": "102d7334",
   "metadata": {},
   "source": [
    "**Вывод:**  Заемщики, состоящие или состоявшие в браке реже допускают просрочку. Самая большая доля должников у клиентов, у которых статус семейного положения не женат / не замужем,либо гражданский брак,самая маленькая доля должников среди клиентов,у которых семейное положение вдовец / вдова."
   ]
  },
  {
   "cell_type": "markdown",
   "id": "85e61f76",
   "metadata": {
    "deletable": false,
    "editable": false,
    "id": "1e8b2fca"
   },
   "source": [
    "#### Есть ли зависимость между уровнем дохода и возвратом кредита в срок?"
   ]
  },
  {
   "cell_type": "code",
   "execution_count": 27,
   "id": "c2993e80",
   "metadata": {
    "deletable": false,
    "id": "cd7e3720"
   },
   "outputs": [
    {
     "data": {
      "text/html": [
       "<div>\n",
       "<style scoped>\n",
       "    .dataframe tbody tr th:only-of-type {\n",
       "        vertical-align: middle;\n",
       "    }\n",
       "\n",
       "    .dataframe tbody tr th {\n",
       "        vertical-align: top;\n",
       "    }\n",
       "\n",
       "    .dataframe thead th {\n",
       "        text-align: right;\n",
       "    }\n",
       "</style>\n",
       "<table border=\"1\" class=\"dataframe\">\n",
       "  <thead>\n",
       "    <tr style=\"text-align: right;\">\n",
       "      <th></th>\n",
       "      <th>all_customers</th>\n",
       "      <th>share_of_debtors</th>\n",
       "      <th>debtors</th>\n",
       "    </tr>\n",
       "    <tr>\n",
       "      <th>total_income_category</th>\n",
       "      <th></th>\n",
       "      <th></th>\n",
       "      <th></th>\n",
       "    </tr>\n",
       "  </thead>\n",
       "  <tbody>\n",
       "    <tr>\n",
       "      <th>A</th>\n",
       "      <td>25</td>\n",
       "      <td>0.080</td>\n",
       "      <td>2</td>\n",
       "    </tr>\n",
       "    <tr>\n",
       "      <th>B</th>\n",
       "      <td>5014</td>\n",
       "      <td>0.071</td>\n",
       "      <td>354</td>\n",
       "    </tr>\n",
       "    <tr>\n",
       "      <th>C</th>\n",
       "      <td>15921</td>\n",
       "      <td>0.085</td>\n",
       "      <td>1353</td>\n",
       "    </tr>\n",
       "    <tr>\n",
       "      <th>D</th>\n",
       "      <td>349</td>\n",
       "      <td>0.060</td>\n",
       "      <td>21</td>\n",
       "    </tr>\n",
       "    <tr>\n",
       "      <th>E</th>\n",
       "      <td>22</td>\n",
       "      <td>0.091</td>\n",
       "      <td>2</td>\n",
       "    </tr>\n",
       "  </tbody>\n",
       "</table>\n",
       "</div>"
      ],
      "text/plain": [
       "                       all_customers  share_of_debtors  debtors\n",
       "total_income_category                                          \n",
       "A                                 25             0.080        2\n",
       "B                               5014             0.071      354\n",
       "C                              15921             0.085     1353\n",
       "D                                349             0.060       21\n",
       "E                                 22             0.091        2"
      ]
     },
     "execution_count": 27,
     "metadata": {},
     "output_type": "execute_result"
    }
   ],
   "source": [
    "relationship_total_income = data.pivot_table(index=['total_income_category'], values='debt', aggfunc= {'sum', 'count', 'mean'})\n",
    "pd.set_option('display.float_format', '{:.3f}'.format)\n",
    "relationship_total_income['count'] = relationship_total_income['count'].astype (int)\n",
    "relationship_total_income['sum'] = relationship_total_income['sum'].astype (int)\n",
    "relationship_total_income = relationship_total_income.rename(columns={\"sum\": \"debtors\",'count': 'all_customers','mean': 'share_of_debtors' }) \n",
    "relationship_total_income"
   ]
  },
  {
   "cell_type": "markdown",
   "id": "15146496",
   "metadata": {
    "deletable": false,
    "id": "e8593def"
   },
   "source": [
    "**Вывод:** Заемщики с более высоким уровнем дохода реже допускают просрочку. Самая большая доля должников у клиентов,который относятся к категории Е,в совю очередь самая маленькая доля должников,которые относятся к категории D. "
   ]
  },
  {
   "cell_type": "markdown",
   "id": "be67e364",
   "metadata": {
    "deletable": false,
    "editable": false,
    "id": "99ecbd1f"
   },
   "source": [
    "#### Как разные цели кредита влияют на его возврат в срок?"
   ]
  },
  {
   "cell_type": "code",
   "execution_count": 28,
   "id": "bb8fb93e",
   "metadata": {
    "deletable": false,
    "id": "2b687290"
   },
   "outputs": [
    {
     "data": {
      "text/html": [
       "<div>\n",
       "<style scoped>\n",
       "    .dataframe tbody tr th:only-of-type {\n",
       "        vertical-align: middle;\n",
       "    }\n",
       "\n",
       "    .dataframe tbody tr th {\n",
       "        vertical-align: top;\n",
       "    }\n",
       "\n",
       "    .dataframe thead th {\n",
       "        text-align: right;\n",
       "    }\n",
       "</style>\n",
       "<table border=\"1\" class=\"dataframe\">\n",
       "  <thead>\n",
       "    <tr style=\"text-align: right;\">\n",
       "      <th></th>\n",
       "      <th>all_customers</th>\n",
       "      <th>share_of_debtors</th>\n",
       "      <th>debtors</th>\n",
       "    </tr>\n",
       "    <tr>\n",
       "      <th>purpose_category</th>\n",
       "      <th></th>\n",
       "      <th></th>\n",
       "      <th></th>\n",
       "    </tr>\n",
       "  </thead>\n",
       "  <tbody>\n",
       "    <tr>\n",
       "      <th>операции с автомобилем</th>\n",
       "      <td>4279</td>\n",
       "      <td>0.093</td>\n",
       "      <td>400</td>\n",
       "    </tr>\n",
       "    <tr>\n",
       "      <th>операции с недвижимостью</th>\n",
       "      <td>10751</td>\n",
       "      <td>0.073</td>\n",
       "      <td>780</td>\n",
       "    </tr>\n",
       "    <tr>\n",
       "      <th>получение образования</th>\n",
       "      <td>3988</td>\n",
       "      <td>0.093</td>\n",
       "      <td>369</td>\n",
       "    </tr>\n",
       "    <tr>\n",
       "      <th>проведение свадьбы</th>\n",
       "      <td>2313</td>\n",
       "      <td>0.079</td>\n",
       "      <td>183</td>\n",
       "    </tr>\n",
       "  </tbody>\n",
       "</table>\n",
       "</div>"
      ],
      "text/plain": [
       "                          all_customers  share_of_debtors  debtors\n",
       "purpose_category                                                  \n",
       "операции с автомобилем             4279             0.093      400\n",
       "операции с недвижимостью          10751             0.073      780\n",
       "получение образования              3988             0.093      369\n",
       "проведение свадьбы                 2313             0.079      183"
      ]
     },
     "execution_count": 28,
     "metadata": {},
     "output_type": "execute_result"
    }
   ],
   "source": [
    "relationship_purpose= data.pivot_table(index=['purpose_category'], values='debt', aggfunc= {'sum', 'count', 'mean'})\n",
    "pd.set_option('display.float_format', '{:.3f}'.format)\n",
    "relationship_purpose['count'] = relationship_purpose['count'].astype (int)\n",
    "relationship_purpose['sum'] = relationship_purpose['sum'].astype (int)\n",
    "relationship_purpose = relationship_purpose.rename(columns={\"sum\": \"debtors\",'count': 'all_customers','mean': 'share_of_debtors' }) \n",
    "relationship_purpose"
   ]
  },
  {
   "cell_type": "markdown",
   "id": "1f8e64d9",
   "metadata": {
    "deletable": false,
    "id": "b4bb2ce6"
   },
   "source": [
    "**Вывод:** По таблице видно,что самая большая доля должников сосредоточенна у клиентов целью кредита которых является операции с автомобилем, либо получение образования,меньшая доля должников у клиентов,цель кредита которых операции с недвижимостью."
   ]
  },
  {
   "cell_type": "markdown",
   "id": "9dc5edb0",
   "metadata": {
    "deletable": false,
    "editable": false,
    "id": "09c3ac4c"
   },
   "source": [
    "#### Приведите возможные причины появления пропусков в исходных данных."
   ]
  },
  {
   "cell_type": "markdown",
   "id": "b69a7120",
   "metadata": {
    "deletable": false,
    "id": "9da2ceda"
   },
   "source": [
    "*Ответ:*  В двух столбцах были пропущенные значения. Один из них — `days_employed` - хранит данные об общем трудовом стаже в днях . Другой столбец с пропущенными значениями — `total_income` — хранит данные о доходах. Колличество пропусков в столбцах одинаковое, что свидетельствует о специфике заполнения анкеты при получении кредита. Данные поля анкеты при получении кредита не являются обязательными, записи в них отсутствуют."
   ]
  },
  {
   "cell_type": "markdown",
   "id": "981cd440",
   "metadata": {
    "deletable": false,
    "editable": false,
    "id": "7b0487d6"
   },
   "source": [
    "####  Объясните, почему заполнить пропуски медианным значением — лучшее решение для количественных переменных."
   ]
  },
  {
   "cell_type": "markdown",
   "id": "676fedab",
   "metadata": {
    "deletable": false,
    "id": "7ecf2b8e"
   },
   "source": [
    "*Ответ:* Заполнить пропуски медианным значением — лучшее решение для количественных переменных,так как медианное значение лучше всего отражает выборку, чем среднее арифметическое, поскольку устойчива к искажениям. Медиана в отличие от среднего значения, менее чувствительна к выбросам, среднее значение смещается в сторону выбросов."
   ]
  },
  {
   "cell_type": "markdown",
   "id": "5be6c75a",
   "metadata": {
    "deletable": false,
    "editable": false,
    "id": "6db5255a"
   },
   "source": [
    "### Общий вывод."
   ]
  },
  {
   "cell_type": "markdown",
   "id": "08857a7d",
   "metadata": {
    "deletable": false,
    "id": "bad65432"
   },
   "source": [
    "На этапе обработки аномальных значений,помимо обработанных артефактов выявленно аномально большое значение в столбце `days_employed` , которое хранит данные об общем трудовом стаже в днях. У клиента колличество дней трудового стажа анамально высокое,что привело к неккоректному  оотображению статистических данных, которые дают представление о распределении значений."
   ]
  },
  {
   "cell_type": "code",
   "execution_count": 29,
   "id": "36ead04c",
   "metadata": {},
   "outputs": [
    {
     "data": {
      "text/html": [
       "<div>\n",
       "<style scoped>\n",
       "    .dataframe tbody tr th:only-of-type {\n",
       "        vertical-align: middle;\n",
       "    }\n",
       "\n",
       "    .dataframe tbody tr th {\n",
       "        vertical-align: top;\n",
       "    }\n",
       "\n",
       "    .dataframe thead th {\n",
       "        text-align: right;\n",
       "    }\n",
       "</style>\n",
       "<table border=\"1\" class=\"dataframe\">\n",
       "  <thead>\n",
       "    <tr style=\"text-align: right;\">\n",
       "      <th></th>\n",
       "      <th>children</th>\n",
       "      <th>days_employed</th>\n",
       "      <th>dob_years</th>\n",
       "      <th>education_id</th>\n",
       "      <th>family_status_id</th>\n",
       "      <th>debt</th>\n",
       "      <th>total_income</th>\n",
       "    </tr>\n",
       "  </thead>\n",
       "  <tbody>\n",
       "    <tr>\n",
       "      <th>count</th>\n",
       "      <td>21331.000</td>\n",
       "      <td>21331.000</td>\n",
       "      <td>21331.000</td>\n",
       "      <td>21331.000</td>\n",
       "      <td>21331.000</td>\n",
       "      <td>21331.000</td>\n",
       "      <td>21331.000</td>\n",
       "    </tr>\n",
       "    <tr>\n",
       "      <th>mean</th>\n",
       "      <td>0.474</td>\n",
       "      <td>67148.972</td>\n",
       "      <td>43.278</td>\n",
       "      <td>0.817</td>\n",
       "      <td>0.974</td>\n",
       "      <td>0.081</td>\n",
       "      <td>165342.746</td>\n",
       "    </tr>\n",
       "    <tr>\n",
       "      <th>std</th>\n",
       "      <td>0.752</td>\n",
       "      <td>139281.142</td>\n",
       "      <td>12.575</td>\n",
       "      <td>0.549</td>\n",
       "      <td>1.422</td>\n",
       "      <td>0.273</td>\n",
       "      <td>98313.986</td>\n",
       "    </tr>\n",
       "    <tr>\n",
       "      <th>min</th>\n",
       "      <td>0.000</td>\n",
       "      <td>24.142</td>\n",
       "      <td>0.000</td>\n",
       "      <td>0.000</td>\n",
       "      <td>0.000</td>\n",
       "      <td>0.000</td>\n",
       "      <td>20667.000</td>\n",
       "    </tr>\n",
       "    <tr>\n",
       "      <th>25%</th>\n",
       "      <td>0.000</td>\n",
       "      <td>1024.525</td>\n",
       "      <td>33.000</td>\n",
       "      <td>1.000</td>\n",
       "      <td>0.000</td>\n",
       "      <td>0.000</td>\n",
       "      <td>107507.000</td>\n",
       "    </tr>\n",
       "    <tr>\n",
       "      <th>50%</th>\n",
       "      <td>0.000</td>\n",
       "      <td>1996.733</td>\n",
       "      <td>42.000</td>\n",
       "      <td>1.000</td>\n",
       "      <td>0.000</td>\n",
       "      <td>0.000</td>\n",
       "      <td>142594.000</td>\n",
       "    </tr>\n",
       "    <tr>\n",
       "      <th>75%</th>\n",
       "      <td>1.000</td>\n",
       "      <td>5337.760</td>\n",
       "      <td>53.000</td>\n",
       "      <td>1.000</td>\n",
       "      <td>1.000</td>\n",
       "      <td>0.000</td>\n",
       "      <td>195842.000</td>\n",
       "    </tr>\n",
       "    <tr>\n",
       "      <th>max</th>\n",
       "      <td>5.000</td>\n",
       "      <td>401755.400</td>\n",
       "      <td>75.000</td>\n",
       "      <td>4.000</td>\n",
       "      <td>4.000</td>\n",
       "      <td>1.000</td>\n",
       "      <td>2265604.000</td>\n",
       "    </tr>\n",
       "  </tbody>\n",
       "</table>\n",
       "</div>"
      ],
      "text/plain": [
       "       children  days_employed  dob_years  education_id  family_status_id  \\\n",
       "count 21331.000      21331.000  21331.000     21331.000         21331.000   \n",
       "mean      0.474      67148.972     43.278         0.817             0.974   \n",
       "std       0.752     139281.142     12.575         0.549             1.422   \n",
       "min       0.000         24.142      0.000         0.000             0.000   \n",
       "25%       0.000       1024.525     33.000         1.000             0.000   \n",
       "50%       0.000       1996.733     42.000         1.000             0.000   \n",
       "75%       1.000       5337.760     53.000         1.000             1.000   \n",
       "max       5.000     401755.400     75.000         4.000             4.000   \n",
       "\n",
       "           debt  total_income  \n",
       "count 21331.000     21331.000  \n",
       "mean      0.081    165342.746  \n",
       "std       0.273     98313.986  \n",
       "min       0.000     20667.000  \n",
       "25%       0.000    107507.000  \n",
       "50%       0.000    142594.000  \n",
       "75%       0.000    195842.000  \n",
       "max       1.000   2265604.000  "
      ]
     },
     "execution_count": 29,
     "metadata": {},
     "output_type": "execute_result"
    }
   ],
   "source": [
    "data.describe()"
   ]
  },
  {
   "cell_type": "code",
   "execution_count": 30,
   "id": "2827600e",
   "metadata": {},
   "outputs": [
    {
     "data": {
      "text/html": [
       "<div>\n",
       "<style scoped>\n",
       "    .dataframe tbody tr th:only-of-type {\n",
       "        vertical-align: middle;\n",
       "    }\n",
       "\n",
       "    .dataframe tbody tr th {\n",
       "        vertical-align: top;\n",
       "    }\n",
       "\n",
       "    .dataframe thead th {\n",
       "        text-align: right;\n",
       "    }\n",
       "</style>\n",
       "<table border=\"1\" class=\"dataframe\">\n",
       "  <thead>\n",
       "    <tr style=\"text-align: right;\">\n",
       "      <th></th>\n",
       "      <th>children</th>\n",
       "      <th>days_employed</th>\n",
       "      <th>dob_years</th>\n",
       "      <th>education</th>\n",
       "      <th>education_id</th>\n",
       "      <th>family_status</th>\n",
       "      <th>family_status_id</th>\n",
       "      <th>gender</th>\n",
       "      <th>income_type</th>\n",
       "      <th>debt</th>\n",
       "      <th>total_income</th>\n",
       "      <th>purpose</th>\n",
       "      <th>total_income_category</th>\n",
       "      <th>purpose_category</th>\n",
       "    </tr>\n",
       "  </thead>\n",
       "  <tbody>\n",
       "    <tr>\n",
       "      <th>6954</th>\n",
       "      <td>0</td>\n",
       "      <td>401755.400</td>\n",
       "      <td>56</td>\n",
       "      <td>среднее</td>\n",
       "      <td>1</td>\n",
       "      <td>вдовец / вдова</td>\n",
       "      <td>2</td>\n",
       "      <td>F</td>\n",
       "      <td>пенсионер</td>\n",
       "      <td>0</td>\n",
       "      <td>176278</td>\n",
       "      <td>ремонт жилью</td>\n",
       "      <td>C</td>\n",
       "      <td>операции с недвижимостью</td>\n",
       "    </tr>\n",
       "  </tbody>\n",
       "</table>\n",
       "</div>"
      ],
      "text/plain": [
       "      children  days_employed  dob_years education  education_id  \\\n",
       "6954         0     401755.400         56   среднее             1   \n",
       "\n",
       "       family_status  family_status_id gender income_type  debt  total_income  \\\n",
       "6954  вдовец / вдова                 2      F   пенсионер     0        176278   \n",
       "\n",
       "           purpose total_income_category          purpose_category  \n",
       "6954  ремонт жилью                     C  операции с недвижимостью  "
      ]
     },
     "execution_count": 30,
     "metadata": {},
     "output_type": "execute_result"
    }
   ],
   "source": [
    "anomaly_days_employed = data.loc[data['days_employed'] >= 401755]\n",
    "anomaly_days_employed"
   ]
  },
  {
   "cell_type": "code",
   "execution_count": 31,
   "id": "7cf3de5c",
   "metadata": {},
   "outputs": [
    {
     "data": {
      "text/plain": [
       "6954   1100.700\n",
       "Name: days_employed, dtype: float64"
      ]
     },
     "execution_count": 31,
     "metadata": {},
     "output_type": "execute_result"
    }
   ],
   "source": [
    "anomaly_year_employed = anomaly_days_employed['days_employed']/365\n",
    "anomaly_year_employed"
   ]
  },
  {
   "cell_type": "markdown",
   "id": "d5ca442b",
   "metadata": {},
   "source": [
    "***Не все гипотезы подтвердились. Прослеживается зависимость между семейным положением, уровнем дохода,цели кредита и возвратом кредита в срок. \n",
    "Исходя из данных выше можно описать клиента с наибольшей вероятностью просрочки следующим образом***: \n",
    "- семейное положением: вдовец / вдова\n",
    "- уровень дохода: категория D (30001–50000)\n",
    "- цель кредита: операции с недвижимостью\n"
   ]
  },
  {
   "cell_type": "markdown",
   "id": "711bd4e6",
   "metadata": {},
   "source": [
    "**<p style=\"text-align: center;\">Итоговый вывод.</p>**\n",
    "\n",
    "1. Цель работы - исследование надежности заемщиков банка.В ходе работы над проектом были реализованны следующие шаги:\n",
    "    - удаление пропусков (основные причины их появления — технические ошибки и человеческий фактор)\n",
    "    - замена на медианное значение (так как медианное значение лучше всего отражает выборку, чем среднее арифметическое, поскольку устойчива к искажениям)\n",
    "    - обработка аномальных значений\n",
    "    - обработка дубликатов\n",
    "    \n",
    "    \n",
    "    \n",
    "2. Исследуя данные были полученны ответы на вопросы:\n",
    "\n",
    "   - Есть ли зависимость между количеством детей и возвратом кредита в срок? \n",
    "    Да, клиенты,у которых есть дети имеют большую долю невозврата кредита в срок,в свою очередь, клиенты, у которых нет детей имеют меньшую долю быть должником перед банком.\n",
    "\n",
    "   - Есть ли зависимость между семейным положением и возвратом кредита в срок?\n",
    "    Да,самая большая доля должников у клиентов, у которых статус семейного положения не женат / не замужем,либо гражданский брак,самая маленькая доля должников среди клиентов,у которых семейное положение вдовец / вдова.\n",
    "\n",
    "   - Есть ли зависимость между уровнем дохода и возвратом кредита в срок?\n",
    "    Да,самая большая доля должников у клиентов,которые относятся к категории Е,в свою очередь самая маленькая доля должников,которые относятся к категории D. \n",
    "    \n",
    "   - Как разные цели кредита влияют на его возврат в срок?\n",
    "    Самая большая доля должников сосредоточенна у клиентов целью кредита которых является операции с автомобилем либо получение образования,меньшая доля должников у клиентов,цель кредита которых операции с недвижимостью.\n",
    "    \n",
    "\n"
   ]
  }
 ],
 "metadata": {
  "ExecuteTimeLog": [
   {
    "duration": 511,
    "start_time": "2023-04-27T11:46:02.023Z"
   },
   {
    "duration": 38,
    "start_time": "2023-04-27T11:46:05.682Z"
   },
   {
    "duration": 20,
    "start_time": "2023-04-27T11:46:16.413Z"
   },
   {
    "duration": 9,
    "start_time": "2023-04-27T11:46:23.457Z"
   },
   {
    "duration": 34,
    "start_time": "2023-04-27T11:49:57.151Z"
   },
   {
    "duration": 4,
    "start_time": "2023-04-27T11:50:13.716Z"
   },
   {
    "duration": 15,
    "start_time": "2023-04-27T11:50:21.307Z"
   },
   {
    "duration": 8,
    "start_time": "2023-04-27T11:51:47.484Z"
   },
   {
    "duration": 4,
    "start_time": "2023-04-27T11:51:50.385Z"
   },
   {
    "duration": 9,
    "start_time": "2023-04-27T11:51:55.121Z"
   },
   {
    "duration": 13,
    "start_time": "2023-04-27T11:52:22.015Z"
   },
   {
    "duration": 6,
    "start_time": "2023-04-27T11:52:25.860Z"
   },
   {
    "duration": 32,
    "start_time": "2023-04-27T11:52:46.027Z"
   },
   {
    "duration": 10,
    "start_time": "2023-04-27T11:53:00.750Z"
   },
   {
    "duration": 5,
    "start_time": "2023-04-27T11:53:07.580Z"
   },
   {
    "duration": 4,
    "start_time": "2023-04-27T11:53:51.721Z"
   },
   {
    "duration": 11,
    "start_time": "2023-04-27T11:53:54.458Z"
   },
   {
    "duration": 25,
    "start_time": "2023-04-27T11:53:59.314Z"
   },
   {
    "duration": 18,
    "start_time": "2023-04-27T11:54:02.434Z"
   },
   {
    "duration": 5,
    "start_time": "2023-04-27T11:54:15.483Z"
   },
   {
    "duration": 22,
    "start_time": "2023-04-27T11:54:34.081Z"
   },
   {
    "duration": 10,
    "start_time": "2023-04-27T11:54:42.915Z"
   },
   {
    "duration": 3,
    "start_time": "2023-04-27T11:54:49.151Z"
   },
   {
    "duration": 10,
    "start_time": "2023-04-27T11:54:55.120Z"
   },
   {
    "duration": 15,
    "start_time": "2023-04-27T12:02:09.053Z"
   },
   {
    "duration": 4,
    "start_time": "2023-04-27T12:08:15.559Z"
   },
   {
    "duration": 15,
    "start_time": "2023-04-27T12:14:37.707Z"
   },
   {
    "duration": 23,
    "start_time": "2023-04-27T15:48:25.751Z"
   },
   {
    "duration": 28,
    "start_time": "2023-04-27T20:00:09.363Z"
   },
   {
    "duration": 21,
    "start_time": "2023-04-27T20:06:12.164Z"
   },
   {
    "duration": 36,
    "start_time": "2023-04-27T20:06:20.686Z"
   },
   {
    "duration": 27,
    "start_time": "2023-04-27T20:08:44.150Z"
   },
   {
    "duration": 26,
    "start_time": "2023-04-27T20:16:03.039Z"
   },
   {
    "duration": 18,
    "start_time": "2023-04-27T20:18:09.946Z"
   },
   {
    "duration": 31,
    "start_time": "2023-04-27T20:19:22.809Z"
   },
   {
    "duration": 25,
    "start_time": "2023-04-27T20:19:28.208Z"
   },
   {
    "duration": 45,
    "start_time": "2023-04-27T20:24:31.126Z"
   },
   {
    "duration": 31,
    "start_time": "2023-04-27T20:54:32.055Z"
   },
   {
    "duration": 32,
    "start_time": "2023-04-27T20:55:51.321Z"
   },
   {
    "duration": 9,
    "start_time": "2023-04-27T20:59:54.036Z"
   },
   {
    "duration": 13,
    "start_time": "2023-04-27T21:00:35.965Z"
   },
   {
    "duration": 78,
    "start_time": "2023-04-27T21:04:57.573Z"
   },
   {
    "duration": 5,
    "start_time": "2023-04-27T21:05:28.770Z"
   },
   {
    "duration": 54,
    "start_time": "2023-04-27T22:32:46.315Z"
   },
   {
    "duration": 482,
    "start_time": "2023-04-27T22:32:52.002Z"
   },
   {
    "duration": 24,
    "start_time": "2023-04-27T22:32:52.486Z"
   },
   {
    "duration": 16,
    "start_time": "2023-04-27T22:32:52.512Z"
   },
   {
    "duration": 10,
    "start_time": "2023-04-27T22:32:52.529Z"
   },
   {
    "duration": 67,
    "start_time": "2023-04-27T22:32:52.541Z"
   },
   {
    "duration": 4,
    "start_time": "2023-04-27T22:32:52.610Z"
   },
   {
    "duration": 14,
    "start_time": "2023-04-27T22:32:52.616Z"
   },
   {
    "duration": 5,
    "start_time": "2023-04-27T22:32:52.632Z"
   },
   {
    "duration": 11,
    "start_time": "2023-04-27T22:32:52.639Z"
   },
   {
    "duration": 18,
    "start_time": "2023-04-27T22:32:52.651Z"
   },
   {
    "duration": 53,
    "start_time": "2023-04-27T22:32:52.671Z"
   },
   {
    "duration": 10,
    "start_time": "2023-04-27T22:32:52.726Z"
   },
   {
    "duration": 9,
    "start_time": "2023-04-27T22:32:52.737Z"
   },
   {
    "duration": 24,
    "start_time": "2023-04-27T22:32:52.749Z"
   },
   {
    "duration": 22,
    "start_time": "2023-04-27T22:32:52.791Z"
   },
   {
    "duration": 18,
    "start_time": "2023-04-27T22:32:52.815Z"
   },
   {
    "duration": 7,
    "start_time": "2023-04-27T22:32:52.835Z"
   },
   {
    "duration": 14,
    "start_time": "2023-04-27T22:32:52.844Z"
   },
   {
    "duration": 33,
    "start_time": "2023-04-27T22:32:52.860Z"
   },
   {
    "duration": 4,
    "start_time": "2023-04-27T22:32:52.894Z"
   },
   {
    "duration": 13,
    "start_time": "2023-04-27T22:32:52.899Z"
   },
   {
    "duration": 29,
    "start_time": "2023-04-27T22:32:52.914Z"
   },
   {
    "duration": 55,
    "start_time": "2023-04-27T22:32:52.944Z"
   },
   {
    "duration": 19,
    "start_time": "2023-04-27T22:32:53.001Z"
   },
   {
    "duration": 21,
    "start_time": "2023-04-27T22:32:53.022Z"
   },
   {
    "duration": 60,
    "start_time": "2023-04-27T22:32:53.044Z"
   },
   {
    "duration": 12,
    "start_time": "2023-04-27T22:32:53.106Z"
   },
   {
    "duration": 7,
    "start_time": "2023-04-27T22:32:53.119Z"
   },
   {
    "duration": 461,
    "start_time": "2023-04-27T22:36:23.948Z"
   },
   {
    "duration": 27,
    "start_time": "2023-04-27T22:36:24.412Z"
   },
   {
    "duration": 25,
    "start_time": "2023-04-27T22:36:24.441Z"
   },
   {
    "duration": 29,
    "start_time": "2023-04-27T22:36:24.469Z"
   },
   {
    "duration": 50,
    "start_time": "2023-04-27T22:36:24.501Z"
   },
   {
    "duration": 5,
    "start_time": "2023-04-27T22:36:24.553Z"
   },
   {
    "duration": 33,
    "start_time": "2023-04-27T22:36:24.560Z"
   },
   {
    "duration": 5,
    "start_time": "2023-04-27T22:36:24.594Z"
   },
   {
    "duration": 18,
    "start_time": "2023-04-27T22:36:24.601Z"
   },
   {
    "duration": 7,
    "start_time": "2023-04-27T22:36:24.622Z"
   },
   {
    "duration": 56,
    "start_time": "2023-04-27T22:36:24.631Z"
   },
   {
    "duration": 12,
    "start_time": "2023-04-27T22:36:24.689Z"
   },
   {
    "duration": 9,
    "start_time": "2023-04-27T22:36:24.703Z"
   },
   {
    "duration": 56,
    "start_time": "2023-04-27T22:36:24.714Z"
   },
   {
    "duration": 48,
    "start_time": "2023-04-27T22:36:24.772Z"
   },
   {
    "duration": 19,
    "start_time": "2023-04-27T22:36:24.822Z"
   },
   {
    "duration": 4,
    "start_time": "2023-04-27T22:36:24.843Z"
   },
   {
    "duration": 43,
    "start_time": "2023-04-27T22:36:24.848Z"
   },
   {
    "duration": 15,
    "start_time": "2023-04-27T22:36:24.894Z"
   },
   {
    "duration": 15,
    "start_time": "2023-04-27T22:36:24.910Z"
   },
   {
    "duration": 32,
    "start_time": "2023-04-27T22:36:24.927Z"
   },
   {
    "duration": 51,
    "start_time": "2023-04-27T22:36:24.961Z"
   },
   {
    "duration": 21,
    "start_time": "2023-04-27T22:36:25.014Z"
   },
   {
    "duration": 84,
    "start_time": "2023-04-27T22:36:25.038Z"
   },
   {
    "duration": 88,
    "start_time": "2023-04-27T22:36:25.124Z"
   },
   {
    "duration": 88,
    "start_time": "2023-04-27T22:36:25.214Z"
   },
   {
    "duration": 12,
    "start_time": "2023-04-27T22:36:25.304Z"
   },
   {
    "duration": 5,
    "start_time": "2023-04-27T22:36:25.319Z"
   },
   {
    "duration": 51,
    "start_time": "2023-04-30T10:03:47.114Z"
   },
   {
    "duration": 516,
    "start_time": "2023-04-30T10:04:02.430Z"
   },
   {
    "duration": 27,
    "start_time": "2023-04-30T10:04:02.950Z"
   },
   {
    "duration": 24,
    "start_time": "2023-04-30T10:04:02.979Z"
   },
   {
    "duration": 14,
    "start_time": "2023-04-30T10:04:03.006Z"
   },
   {
    "duration": 38,
    "start_time": "2023-04-30T10:04:03.023Z"
   },
   {
    "duration": 5,
    "start_time": "2023-04-30T10:04:03.063Z"
   },
   {
    "duration": 9,
    "start_time": "2023-04-30T10:04:03.090Z"
   },
   {
    "duration": 6,
    "start_time": "2023-04-30T10:04:03.101Z"
   },
   {
    "duration": 13,
    "start_time": "2023-04-30T10:04:03.109Z"
   },
   {
    "duration": 6,
    "start_time": "2023-04-30T10:04:03.124Z"
   },
   {
    "duration": 93,
    "start_time": "2023-04-30T10:04:03.132Z"
   },
   {
    "duration": 15,
    "start_time": "2023-04-30T10:04:03.228Z"
   },
   {
    "duration": 11,
    "start_time": "2023-04-30T10:04:03.246Z"
   },
   {
    "duration": 32,
    "start_time": "2023-04-30T10:04:03.260Z"
   },
   {
    "duration": 28,
    "start_time": "2023-04-30T10:04:03.294Z"
   },
   {
    "duration": 22,
    "start_time": "2023-04-30T10:04:03.325Z"
   },
   {
    "duration": 4,
    "start_time": "2023-04-30T10:04:03.349Z"
   },
   {
    "duration": 34,
    "start_time": "2023-04-30T10:04:03.356Z"
   },
   {
    "duration": 7,
    "start_time": "2023-04-30T10:04:03.392Z"
   },
   {
    "duration": 17,
    "start_time": "2023-04-30T10:04:03.401Z"
   },
   {
    "duration": 15,
    "start_time": "2023-04-30T10:04:03.420Z"
   },
   {
    "duration": 8,
    "start_time": "2023-04-30T10:04:07.851Z"
   },
   {
    "duration": 20,
    "start_time": "2023-04-30T10:04:30.643Z"
   },
   {
    "duration": 7,
    "start_time": "2023-04-30T10:04:48.572Z"
   },
   {
    "duration": 15,
    "start_time": "2023-04-30T10:06:15.343Z"
   },
   {
    "duration": 19,
    "start_time": "2023-04-30T10:06:39.167Z"
   },
   {
    "duration": 16,
    "start_time": "2023-04-30T10:08:22.971Z"
   },
   {
    "duration": 1472,
    "start_time": "2023-04-30T10:08:48.707Z"
   },
   {
    "duration": 14,
    "start_time": "2023-04-30T10:09:07.593Z"
   },
   {
    "duration": 12,
    "start_time": "2023-04-30T10:11:52.441Z"
   },
   {
    "duration": 7,
    "start_time": "2023-04-30T10:14:05.615Z"
   },
   {
    "duration": 7,
    "start_time": "2023-04-30T10:14:23.288Z"
   },
   {
    "duration": 7,
    "start_time": "2023-04-30T10:16:49.451Z"
   },
   {
    "duration": 7,
    "start_time": "2023-04-30T10:17:04.181Z"
   },
   {
    "duration": 6,
    "start_time": "2023-04-30T10:17:14.803Z"
   },
   {
    "duration": 6,
    "start_time": "2023-04-30T10:17:26.075Z"
   },
   {
    "duration": 6,
    "start_time": "2023-04-30T10:17:37.551Z"
   },
   {
    "duration": 5,
    "start_time": "2023-04-30T10:17:46.756Z"
   },
   {
    "duration": 76,
    "start_time": "2023-04-30T10:25:27.975Z"
   },
   {
    "duration": 78,
    "start_time": "2023-04-30T10:26:01.133Z"
   },
   {
    "duration": 39,
    "start_time": "2023-04-30T10:26:55.555Z"
   },
   {
    "duration": 43,
    "start_time": "2023-04-30T10:27:16.860Z"
   },
   {
    "duration": 12,
    "start_time": "2023-04-30T10:35:25.975Z"
   },
   {
    "duration": 87,
    "start_time": "2023-04-30T10:50:07.539Z"
   },
   {
    "duration": 76,
    "start_time": "2023-04-30T10:50:31.158Z"
   },
   {
    "duration": 73,
    "start_time": "2023-04-30T10:51:16.903Z"
   },
   {
    "duration": 14,
    "start_time": "2023-04-30T10:51:29.439Z"
   },
   {
    "duration": 9,
    "start_time": "2023-04-30T10:51:34.869Z"
   },
   {
    "duration": 1145,
    "start_time": "2023-04-30T11:13:35.033Z"
   },
   {
    "duration": 509,
    "start_time": "2023-04-30T11:14:32.377Z"
   },
   {
    "duration": 25,
    "start_time": "2023-04-30T11:14:32.888Z"
   },
   {
    "duration": 20,
    "start_time": "2023-04-30T11:14:32.915Z"
   },
   {
    "duration": 15,
    "start_time": "2023-04-30T11:14:32.938Z"
   },
   {
    "duration": 66,
    "start_time": "2023-04-30T11:14:32.955Z"
   },
   {
    "duration": 4,
    "start_time": "2023-04-30T11:14:33.024Z"
   },
   {
    "duration": 12,
    "start_time": "2023-04-30T11:14:33.030Z"
   },
   {
    "duration": 6,
    "start_time": "2023-04-30T11:14:33.044Z"
   },
   {
    "duration": 10,
    "start_time": "2023-04-30T11:14:33.051Z"
   },
   {
    "duration": 36,
    "start_time": "2023-04-30T11:14:33.063Z"
   },
   {
    "duration": 45,
    "start_time": "2023-04-30T11:14:33.101Z"
   },
   {
    "duration": 10,
    "start_time": "2023-04-30T11:14:33.148Z"
   },
   {
    "duration": 11,
    "start_time": "2023-04-30T11:14:33.160Z"
   },
   {
    "duration": 26,
    "start_time": "2023-04-30T11:14:33.173Z"
   },
   {
    "duration": 23,
    "start_time": "2023-04-30T11:14:33.201Z"
   },
   {
    "duration": 20,
    "start_time": "2023-04-30T11:14:33.226Z"
   },
   {
    "duration": 9,
    "start_time": "2023-04-30T11:14:33.248Z"
   },
   {
    "duration": 31,
    "start_time": "2023-04-30T11:14:33.258Z"
   },
   {
    "duration": 17,
    "start_time": "2023-04-30T11:14:33.292Z"
   },
   {
    "duration": 9,
    "start_time": "2023-04-30T11:14:33.311Z"
   },
   {
    "duration": 14,
    "start_time": "2023-04-30T11:14:33.322Z"
   },
   {
    "duration": 47,
    "start_time": "2023-04-30T11:14:33.338Z"
   },
   {
    "duration": 33,
    "start_time": "2023-04-30T11:14:33.387Z"
   },
   {
    "duration": 13,
    "start_time": "2023-04-30T11:14:33.422Z"
   },
   {
    "duration": 20,
    "start_time": "2023-04-30T11:15:09.645Z"
   },
   {
    "duration": 21,
    "start_time": "2023-04-30T11:15:12.788Z"
   },
   {
    "duration": 10,
    "start_time": "2023-04-30T11:15:15.933Z"
   },
   {
    "duration": 16,
    "start_time": "2023-04-30T11:15:32.276Z"
   },
   {
    "duration": 23,
    "start_time": "2023-04-30T11:16:22.166Z"
   },
   {
    "duration": 10,
    "start_time": "2023-04-30T11:16:24.955Z"
   },
   {
    "duration": 1460,
    "start_time": "2023-04-30T11:16:31.656Z"
   },
   {
    "duration": 1116,
    "start_time": "2023-04-30T11:16:43.961Z"
   },
   {
    "duration": 18,
    "start_time": "2023-04-30T11:16:56.757Z"
   },
   {
    "duration": 12,
    "start_time": "2023-04-30T11:23:25.874Z"
   },
   {
    "duration": 12,
    "start_time": "2023-04-30T11:23:39.258Z"
   },
   {
    "duration": 17,
    "start_time": "2023-04-30T11:25:16.120Z"
   },
   {
    "duration": 7,
    "start_time": "2023-04-30T11:25:19.066Z"
   },
   {
    "duration": 1143,
    "start_time": "2023-04-30T11:25:22.880Z"
   },
   {
    "duration": 17,
    "start_time": "2023-04-30T11:25:40.355Z"
   },
   {
    "duration": 30,
    "start_time": "2023-04-30T12:03:10.171Z"
   },
   {
    "duration": 59,
    "start_time": "2023-04-30T12:03:24.764Z"
   },
   {
    "duration": 49,
    "start_time": "2023-04-30T12:04:01.676Z"
   },
   {
    "duration": 12,
    "start_time": "2023-04-30T12:08:18.768Z"
   },
   {
    "duration": 13,
    "start_time": "2023-04-30T12:09:55.060Z"
   },
   {
    "duration": 13,
    "start_time": "2023-04-30T12:11:56.281Z"
   },
   {
    "duration": 35,
    "start_time": "2023-04-30T12:20:20.551Z"
   },
   {
    "duration": 28,
    "start_time": "2023-04-30T12:22:08.138Z"
   },
   {
    "duration": 9,
    "start_time": "2023-04-30T12:24:28.666Z"
   },
   {
    "duration": 9,
    "start_time": "2023-04-30T12:25:00.874Z"
   },
   {
    "duration": 30,
    "start_time": "2023-04-30T12:25:18.856Z"
   },
   {
    "duration": 31,
    "start_time": "2023-04-30T12:26:31.868Z"
   },
   {
    "duration": 10,
    "start_time": "2023-04-30T12:29:58.455Z"
   },
   {
    "duration": 29,
    "start_time": "2023-04-30T12:30:32.663Z"
   },
   {
    "duration": 1250,
    "start_time": "2023-04-30T12:31:15.622Z"
   },
   {
    "duration": 30,
    "start_time": "2023-04-30T12:31:32.393Z"
   },
   {
    "duration": 22,
    "start_time": "2023-04-30T12:39:09.534Z"
   },
   {
    "duration": 22,
    "start_time": "2023-04-30T12:39:30.747Z"
   },
   {
    "duration": 27,
    "start_time": "2023-04-30T12:39:48.172Z"
   },
   {
    "duration": 25,
    "start_time": "2023-04-30T12:40:13.359Z"
   },
   {
    "duration": 496,
    "start_time": "2023-04-30T12:40:54.654Z"
   },
   {
    "duration": 25,
    "start_time": "2023-04-30T12:40:55.152Z"
   },
   {
    "duration": 27,
    "start_time": "2023-04-30T12:40:55.178Z"
   },
   {
    "duration": 11,
    "start_time": "2023-04-30T12:40:55.207Z"
   },
   {
    "duration": 41,
    "start_time": "2023-04-30T12:40:55.220Z"
   },
   {
    "duration": 4,
    "start_time": "2023-04-30T12:40:55.263Z"
   },
   {
    "duration": 23,
    "start_time": "2023-04-30T12:40:55.268Z"
   },
   {
    "duration": 8,
    "start_time": "2023-04-30T12:40:55.293Z"
   },
   {
    "duration": 11,
    "start_time": "2023-04-30T12:40:55.303Z"
   },
   {
    "duration": 6,
    "start_time": "2023-04-30T12:40:55.317Z"
   },
   {
    "duration": 37,
    "start_time": "2023-04-30T12:40:55.324Z"
   },
   {
    "duration": 30,
    "start_time": "2023-04-30T12:40:55.363Z"
   },
   {
    "duration": 4,
    "start_time": "2023-04-30T12:40:55.395Z"
   },
   {
    "duration": 16,
    "start_time": "2023-04-30T12:40:55.401Z"
   },
   {
    "duration": 29,
    "start_time": "2023-04-30T12:40:55.419Z"
   },
   {
    "duration": 18,
    "start_time": "2023-04-30T12:40:55.450Z"
   },
   {
    "duration": 3,
    "start_time": "2023-04-30T12:40:55.490Z"
   },
   {
    "duration": 22,
    "start_time": "2023-04-30T12:40:55.495Z"
   },
   {
    "duration": 7,
    "start_time": "2023-04-30T12:40:55.519Z"
   },
   {
    "duration": 5,
    "start_time": "2023-04-30T12:40:55.528Z"
   },
   {
    "duration": 17,
    "start_time": "2023-04-30T12:40:55.535Z"
   },
   {
    "duration": 12,
    "start_time": "2023-04-30T12:40:55.553Z"
   },
   {
    "duration": 31,
    "start_time": "2023-04-30T12:40:55.566Z"
   },
   {
    "duration": 7,
    "start_time": "2023-04-30T12:40:55.599Z"
   },
   {
    "duration": 39,
    "start_time": "2023-04-30T12:40:55.607Z"
   },
   {
    "duration": 37,
    "start_time": "2023-04-30T12:41:00.351Z"
   },
   {
    "duration": 27,
    "start_time": "2023-04-30T12:41:38.087Z"
   },
   {
    "duration": 26,
    "start_time": "2023-04-30T12:42:25.387Z"
   },
   {
    "duration": 28,
    "start_time": "2023-04-30T12:46:21.279Z"
   },
   {
    "duration": 466,
    "start_time": "2023-04-30T12:46:37.332Z"
   },
   {
    "duration": 25,
    "start_time": "2023-04-30T12:46:37.800Z"
   },
   {
    "duration": 18,
    "start_time": "2023-04-30T12:46:37.827Z"
   },
   {
    "duration": 10,
    "start_time": "2023-04-30T12:46:37.847Z"
   },
   {
    "duration": 69,
    "start_time": "2023-04-30T12:46:37.858Z"
   },
   {
    "duration": 4,
    "start_time": "2023-04-30T12:46:37.929Z"
   },
   {
    "duration": 13,
    "start_time": "2023-04-30T12:46:37.935Z"
   },
   {
    "duration": 5,
    "start_time": "2023-04-30T12:46:37.950Z"
   },
   {
    "duration": 10,
    "start_time": "2023-04-30T12:46:37.957Z"
   },
   {
    "duration": 17,
    "start_time": "2023-04-30T12:46:37.991Z"
   },
   {
    "duration": 44,
    "start_time": "2023-04-30T12:46:38.009Z"
   },
   {
    "duration": 10,
    "start_time": "2023-04-30T12:46:38.055Z"
   },
   {
    "duration": 7,
    "start_time": "2023-04-30T12:46:38.067Z"
   },
   {
    "duration": 27,
    "start_time": "2023-04-30T12:46:38.076Z"
   },
   {
    "duration": 36,
    "start_time": "2023-04-30T12:46:38.106Z"
   },
   {
    "duration": 21,
    "start_time": "2023-04-30T12:46:38.144Z"
   },
   {
    "duration": 4,
    "start_time": "2023-04-30T12:46:38.166Z"
   },
   {
    "duration": 31,
    "start_time": "2023-04-30T12:46:38.172Z"
   },
   {
    "duration": 19,
    "start_time": "2023-04-30T12:46:38.205Z"
   },
   {
    "duration": 7,
    "start_time": "2023-04-30T12:46:38.226Z"
   },
   {
    "duration": 11,
    "start_time": "2023-04-30T12:46:38.235Z"
   },
   {
    "duration": 8,
    "start_time": "2023-04-30T12:46:38.248Z"
   },
   {
    "duration": 38,
    "start_time": "2023-04-30T12:46:38.259Z"
   },
   {
    "duration": 8,
    "start_time": "2023-04-30T12:46:38.299Z"
   },
   {
    "duration": 19,
    "start_time": "2023-04-30T12:46:38.308Z"
   },
   {
    "duration": 31,
    "start_time": "2023-04-30T12:46:40.059Z"
   },
   {
    "duration": 34,
    "start_time": "2023-04-30T12:47:09.904Z"
   },
   {
    "duration": 524,
    "start_time": "2023-04-30T12:49:16.680Z"
   },
   {
    "duration": 26,
    "start_time": "2023-04-30T12:49:17.206Z"
   },
   {
    "duration": 17,
    "start_time": "2023-04-30T12:49:17.234Z"
   },
   {
    "duration": 11,
    "start_time": "2023-04-30T12:49:17.253Z"
   },
   {
    "duration": 54,
    "start_time": "2023-04-30T12:49:17.265Z"
   },
   {
    "duration": 4,
    "start_time": "2023-04-30T12:49:17.321Z"
   },
   {
    "duration": 48,
    "start_time": "2023-04-30T12:49:17.327Z"
   },
   {
    "duration": 7,
    "start_time": "2023-04-30T12:49:17.377Z"
   },
   {
    "duration": 13,
    "start_time": "2023-04-30T12:49:17.386Z"
   },
   {
    "duration": 5,
    "start_time": "2023-04-30T12:49:17.402Z"
   },
   {
    "duration": 44,
    "start_time": "2023-04-30T12:49:17.409Z"
   },
   {
    "duration": 10,
    "start_time": "2023-04-30T12:49:17.455Z"
   },
   {
    "duration": 3,
    "start_time": "2023-04-30T12:49:17.467Z"
   },
   {
    "duration": 13,
    "start_time": "2023-04-30T12:49:17.472Z"
   },
   {
    "duration": 23,
    "start_time": "2023-04-30T12:49:17.487Z"
   },
   {
    "duration": 20,
    "start_time": "2023-04-30T12:49:17.511Z"
   },
   {
    "duration": 4,
    "start_time": "2023-04-30T12:49:17.533Z"
   },
   {
    "duration": 23,
    "start_time": "2023-04-30T12:49:17.539Z"
   },
   {
    "duration": 26,
    "start_time": "2023-04-30T12:49:17.563Z"
   },
   {
    "duration": 4,
    "start_time": "2023-04-30T12:49:17.591Z"
   },
   {
    "duration": 17,
    "start_time": "2023-04-30T12:49:17.597Z"
   },
   {
    "duration": 14,
    "start_time": "2023-04-30T12:49:17.615Z"
   },
   {
    "duration": 20,
    "start_time": "2023-04-30T12:49:17.631Z"
   },
   {
    "duration": 7,
    "start_time": "2023-04-30T12:49:17.653Z"
   },
   {
    "duration": 41,
    "start_time": "2023-04-30T12:49:17.661Z"
   },
   {
    "duration": 30,
    "start_time": "2023-04-30T12:49:33.934Z"
   },
   {
    "duration": 28,
    "start_time": "2023-04-30T12:50:20.059Z"
   },
   {
    "duration": 28,
    "start_time": "2023-04-30T12:50:37.628Z"
   },
   {
    "duration": 35,
    "start_time": "2023-04-30T12:50:46.115Z"
   },
   {
    "duration": 29,
    "start_time": "2023-04-30T12:51:08.685Z"
   },
   {
    "duration": 27,
    "start_time": "2023-04-30T12:55:54.260Z"
   },
   {
    "duration": 75,
    "start_time": "2023-04-30T20:37:22.100Z"
   },
   {
    "duration": 16,
    "start_time": "2023-04-30T20:37:22.177Z"
   },
   {
    "duration": 21,
    "start_time": "2023-04-30T20:37:22.195Z"
   },
   {
    "duration": 11,
    "start_time": "2023-04-30T20:37:22.219Z"
   },
   {
    "duration": 68,
    "start_time": "2023-04-30T20:37:22.231Z"
   },
   {
    "duration": 4,
    "start_time": "2023-04-30T20:37:22.301Z"
   },
   {
    "duration": 26,
    "start_time": "2023-04-30T20:37:22.306Z"
   },
   {
    "duration": 7,
    "start_time": "2023-04-30T20:37:22.334Z"
   },
   {
    "duration": 14,
    "start_time": "2023-04-30T20:37:22.342Z"
   },
   {
    "duration": 5,
    "start_time": "2023-04-30T20:37:22.358Z"
   },
   {
    "duration": 56,
    "start_time": "2023-04-30T20:37:22.365Z"
   },
   {
    "duration": 12,
    "start_time": "2023-04-30T20:37:22.423Z"
   },
   {
    "duration": 4,
    "start_time": "2023-04-30T20:37:22.438Z"
   },
   {
    "duration": 45,
    "start_time": "2023-04-30T20:37:22.444Z"
   },
   {
    "duration": 21,
    "start_time": "2023-04-30T20:37:22.491Z"
   },
   {
    "duration": 20,
    "start_time": "2023-04-30T20:37:22.514Z"
   },
   {
    "duration": 3,
    "start_time": "2023-04-30T20:37:22.536Z"
   },
   {
    "duration": 16,
    "start_time": "2023-04-30T20:37:22.541Z"
   },
   {
    "duration": 39,
    "start_time": "2023-04-30T20:37:22.558Z"
   },
   {
    "duration": 4,
    "start_time": "2023-04-30T20:37:22.599Z"
   },
   {
    "duration": 22,
    "start_time": "2023-04-30T20:37:22.605Z"
   },
   {
    "duration": 9,
    "start_time": "2023-04-30T20:37:22.629Z"
   },
   {
    "duration": 60,
    "start_time": "2023-04-30T20:37:22.640Z"
   },
   {
    "duration": 8,
    "start_time": "2023-04-30T20:37:22.702Z"
   },
   {
    "duration": 13,
    "start_time": "2023-04-30T20:41:47.846Z"
   },
   {
    "duration": 27,
    "start_time": "2023-04-30T20:42:04.023Z"
   },
   {
    "duration": 25,
    "start_time": "2023-04-30T20:42:23.378Z"
   },
   {
    "duration": 27,
    "start_time": "2023-04-30T20:42:36.882Z"
   },
   {
    "duration": 28,
    "start_time": "2023-04-30T20:54:29.608Z"
   },
   {
    "duration": 28,
    "start_time": "2023-04-30T20:56:01.493Z"
   },
   {
    "duration": 36,
    "start_time": "2023-04-30T21:04:21.196Z"
   },
   {
    "duration": 27,
    "start_time": "2023-04-30T21:09:03.719Z"
   },
   {
    "duration": 495,
    "start_time": "2023-04-30T22:03:17.863Z"
   },
   {
    "duration": 20,
    "start_time": "2023-04-30T22:03:18.359Z"
   },
   {
    "duration": 12,
    "start_time": "2023-04-30T22:03:18.380Z"
   },
   {
    "duration": 11,
    "start_time": "2023-04-30T22:03:18.399Z"
   },
   {
    "duration": 47,
    "start_time": "2023-04-30T22:03:18.411Z"
   },
   {
    "duration": 3,
    "start_time": "2023-04-30T22:03:18.459Z"
   },
   {
    "duration": 17,
    "start_time": "2023-04-30T22:03:18.463Z"
   },
   {
    "duration": 8,
    "start_time": "2023-04-30T22:03:18.481Z"
   },
   {
    "duration": 25,
    "start_time": "2023-04-30T22:03:18.490Z"
   },
   {
    "duration": 7,
    "start_time": "2023-04-30T22:03:18.517Z"
   },
   {
    "duration": 31,
    "start_time": "2023-04-30T22:03:18.525Z"
   },
   {
    "duration": 8,
    "start_time": "2023-04-30T22:03:18.558Z"
   },
   {
    "duration": 9,
    "start_time": "2023-04-30T22:03:18.567Z"
   },
   {
    "duration": 10,
    "start_time": "2023-04-30T22:03:18.578Z"
   },
   {
    "duration": 23,
    "start_time": "2023-04-30T22:03:18.589Z"
   },
   {
    "duration": 14,
    "start_time": "2023-04-30T22:03:18.613Z"
   },
   {
    "duration": 3,
    "start_time": "2023-04-30T22:03:18.628Z"
   },
   {
    "duration": 15,
    "start_time": "2023-04-30T22:03:18.632Z"
   },
   {
    "duration": 5,
    "start_time": "2023-04-30T22:03:18.648Z"
   },
   {
    "duration": 3,
    "start_time": "2023-04-30T22:03:18.654Z"
   },
   {
    "duration": 19,
    "start_time": "2023-04-30T22:03:18.658Z"
   },
   {
    "duration": 20,
    "start_time": "2023-04-30T22:03:18.678Z"
   },
   {
    "duration": 18,
    "start_time": "2023-04-30T22:03:18.699Z"
   },
   {
    "duration": 7,
    "start_time": "2023-04-30T22:03:18.718Z"
   },
   {
    "duration": 23,
    "start_time": "2023-04-30T22:03:18.726Z"
   },
   {
    "duration": 20,
    "start_time": "2023-04-30T22:03:18.750Z"
   },
   {
    "duration": 34,
    "start_time": "2023-04-30T22:03:18.771Z"
   },
   {
    "duration": 21,
    "start_time": "2023-04-30T22:03:18.807Z"
   },
   {
    "duration": 23,
    "start_time": "2023-04-30T22:03:18.829Z"
   },
   {
    "duration": 9,
    "start_time": "2023-04-30T22:03:18.853Z"
   },
   {
    "duration": 3,
    "start_time": "2023-04-30T22:03:18.864Z"
   }
  ],
  "colab": {
   "name": "dpp_template_part2.ipynb",
   "provenance": []
  },
  "kernelspec": {
   "display_name": "Python 3 (ipykernel)",
   "language": "python",
   "name": "python3"
  },
  "language_info": {
   "codemirror_mode": {
    "name": "ipython",
    "version": 3
   },
   "file_extension": ".py",
   "mimetype": "text/x-python",
   "name": "python",
   "nbconvert_exporter": "python",
   "pygments_lexer": "ipython3",
   "version": "3.10.12"
  },
  "toc": {
   "base_numbering": 1,
   "nav_menu": {},
   "number_sections": true,
   "sideBar": true,
   "skip_h1_title": true,
   "title_cell": "Table of Contents",
   "title_sidebar": "Contents",
   "toc_cell": false,
   "toc_position": {
    "height": "calc(100% - 180px)",
    "left": "10px",
    "top": "150px",
    "width": "374.391px"
   },
   "toc_section_display": true,
   "toc_window_display": true
  }
 },
 "nbformat": 4,
 "nbformat_minor": 5
}
